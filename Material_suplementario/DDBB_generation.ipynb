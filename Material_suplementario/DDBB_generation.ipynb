{
 "cells": [
  {
   "cell_type": "markdown",
   "id": "3773f4d3",
   "metadata": {},
   "source": [
    "# <u><center>CREACIÓN DE LA BASE DE DATOS (DDBB)</center></u>\n",
    "\n",
    "En este notebook se realiza todo el procesamiento de las mutaciones recopiladas (eliminación de duplicados, homogeneización del formato...) así como la propia creación de la base de datos, junto con todos sus descriptores.\n",
    "\n",
    "<br>\n",
    "<br>\n",
    "\n",
    "____\n",
    "\n",
    "**CONTENIDOS**\n",
    "* [Creación de la base de datos final](#Ap1) <br>\n",
    "    * [1. Caracterización de las mutaciones mediante descriptores](#1.1)\n",
    "    * [2. Eliminación de duplicados, unificación del formato y corrección de errores](#1.2)\n",
    "    * [3. Preprocesado final para los modelos de ML](#1.3)\n",
    "      \n",
    "___  \n",
    "   "
   ]
  },
  {
   "cell_type": "code",
   "execution_count": 1,
   "id": "a8c00c9f",
   "metadata": {},
   "outputs": [],
   "source": [
    "# Packages needed\n",
    "import pandas as pd\n",
    "import matplotlib.pyplot as plt\n",
    "import seaborn as sns"
   ]
  },
  {
   "cell_type": "markdown",
   "id": "8a3af32d",
   "metadata": {},
   "source": [
    "<br>\n",
    "<br>\n",
    "\n",
    "##  Creación de la base de datos final <a id= \"Ap1\"> </a>\n"
   ]
  },
  {
   "cell_type": "markdown",
   "id": "f6e54d45",
   "metadata": {},
   "source": [
    "En primer lugar, se carga el **archivo CSV con las variantes de KCNQ2** recopiladas, ya sea por fuentes bibliográficas o mediante búsqueda en bases de datos. "
   ]
  },
  {
   "cell_type": "code",
   "execution_count": 2,
   "id": "7d2f5fa0",
   "metadata": {},
   "outputs": [],
   "source": [
    "# Define a df\n",
    "df = pd.read_csv('KCNQ2_variants.csv', header = \"infer\")"
   ]
  },
  {
   "cell_type": "code",
   "execution_count": 3,
   "id": "f7a38abb",
   "metadata": {},
   "outputs": [
    {
     "name": "stdout",
     "output_type": "stream",
     "text": [
      "<class 'pandas.core.frame.DataFrame'>\n",
      "RangeIndex: 353 entries, 0 to 352\n",
      "Data columns (total 2 columns):\n",
      " #   Column          Non-Null Count  Dtype \n",
      "---  ------          --------------  ----- \n",
      " 0   PrimaryDisease  353 non-null    object\n",
      " 1   Mutationppt     353 non-null    object\n",
      "dtypes: object(2)\n",
      "memory usage: 5.6+ KB\n"
     ]
    }
   ],
   "source": [
    "df.info()"
   ]
  },
  {
   "cell_type": "markdown",
   "id": "3e1afdb4",
   "metadata": {},
   "source": [
    "El archivo de origen presenta solo 2 columnas y 353 filas. La columna `df[PrimaryDisease]` hace referencia a la **etiqueta** de la mutación, es decir, a si está registrada como patogénica o benigna. La segunda columna `df[Mutationppt]` recoge la **mutación**, con una nomenclatura específica."
   ]
  },
  {
   "cell_type": "code",
   "execution_count": 4,
   "id": "17975bfb",
   "metadata": {},
   "outputs": [
    {
     "data": {
      "text/html": [
       "<div>\n",
       "<style scoped>\n",
       "    .dataframe tbody tr th:only-of-type {\n",
       "        vertical-align: middle;\n",
       "    }\n",
       "\n",
       "    .dataframe tbody tr th {\n",
       "        vertical-align: top;\n",
       "    }\n",
       "\n",
       "    .dataframe thead th {\n",
       "        text-align: right;\n",
       "    }\n",
       "</style>\n",
       "<table border=\"1\" class=\"dataframe\">\n",
       "  <thead>\n",
       "    <tr style=\"text-align: right;\">\n",
       "      <th></th>\n",
       "      <th>PrimaryDisease</th>\n",
       "      <th>Mutationppt</th>\n",
       "    </tr>\n",
       "  </thead>\n",
       "  <tbody>\n",
       "    <tr>\n",
       "      <th>0</th>\n",
       "      <td>pathogenic_variant</td>\n",
       "      <td>M1T</td>\n",
       "    </tr>\n",
       "    <tr>\n",
       "      <th>1</th>\n",
       "      <td>pathogenic_variant</td>\n",
       "      <td>M1V</td>\n",
       "    </tr>\n",
       "    <tr>\n",
       "      <th>2</th>\n",
       "      <td>pathogenic_variant</td>\n",
       "      <td>L107F</td>\n",
       "    </tr>\n",
       "    <tr>\n",
       "      <th>3</th>\n",
       "      <td>pathogenic_variant</td>\n",
       "      <td>T114A</td>\n",
       "    </tr>\n",
       "    <tr>\n",
       "      <th>4</th>\n",
       "      <td>pathogenic_variant</td>\n",
       "      <td>T114I</td>\n",
       "    </tr>\n",
       "  </tbody>\n",
       "</table>\n",
       "</div>"
      ],
      "text/plain": [
       "       PrimaryDisease Mutationppt\n",
       "0  pathogenic_variant         M1T\n",
       "1  pathogenic_variant         M1V\n",
       "2  pathogenic_variant       L107F\n",
       "3  pathogenic_variant       T114A\n",
       "4  pathogenic_variant       T114I"
      ]
     },
     "execution_count": 4,
     "metadata": {},
     "output_type": "execute_result"
    }
   ],
   "source": [
    "df.head()"
   ]
  },
  {
   "cell_type": "markdown",
   "id": "17cc7ff8",
   "metadata": {},
   "source": [
    "Para saber el número de mutaciones benignas y patológicas presentes en el fichero:"
   ]
  },
  {
   "cell_type": "code",
   "execution_count": 5,
   "id": "70ab27ec",
   "metadata": {},
   "outputs": [
    {
     "data": {
      "text/plain": [
       "pathogenic_variant    314\n",
       "benign_variant         39\n",
       "Name: PrimaryDisease, dtype: int64"
      ]
     },
     "execution_count": 5,
     "metadata": {},
     "output_type": "execute_result"
    }
   ],
   "source": [
    "df[\"PrimaryDisease\"].value_counts()"
   ]
  },
  {
   "cell_type": "markdown",
   "id": "955495a1",
   "metadata": {},
   "source": [
    "<br>\n",
    "<br>\n",
    "<br> \n",
    "\n",
    "### 1. Caracterización de las mutaciones mediante descriptores  <a id=\"1.1\"></a>\n",
    "\n",
    "En este apartado, se diseñan los distintos descriptores de secuencia y estructurales con el fin de caracterizar las mutaciones de KCNQ2 recopiladas.\n",
    "\n",
    "<br>\n",
    "\n",
    "<u> **initial_aa, final_aa, position_aa** </u>\n",
    "\n",
    "Una vez se ha realizado el filtrado de las mutaciones y la corrección de su formato (realizado en pasos previos), se crean tres nuevas columnas para caracterizar las mutaciones puntuales **a nivel de la secuencia proteica**:\n",
    "* `df[\"initial_aa\"]` almacenará el aminoácido inicial antes de la mutación.\n",
    "* `df[\"final_aa\"]` almacenará el aminoácido final tras la mutación.\n",
    "* `df[\"position_aa\"]` almacenará la posición de la secuencia proteica donde ha ocurrido la mutación."
   ]
  },
  {
   "cell_type": "code",
   "execution_count": 6,
   "id": "1b422a54",
   "metadata": {},
   "outputs": [],
   "source": [
    "df['initial_aa'] = df['Mutationppt'].apply(lambda x: x[0])\n",
    "df['final_aa'] = df['Mutationppt'].apply(lambda x: x[-1] if x[-3:] != \"del\" else \"-\")\n",
    "df['position_aa'] = df[\"Mutationppt\"].apply(lambda x: int(x[1:-1]) if x[-3:] != \"del\" else int(x[1:-3]))"
   ]
  },
  {
   "cell_type": "markdown",
   "id": "1bf0067d",
   "metadata": {},
   "source": [
    "Se comprueban los valores únicos de las columnas creadas para ver que no ha habido errores:"
   ]
  },
  {
   "cell_type": "code",
   "execution_count": 7,
   "id": "98325500",
   "metadata": {
    "scrolled": false
   },
   "outputs": [
    {
     "data": {
      "text/plain": [
       "array(['T', 'V', 'F', 'A', 'I', 'G', 'L', 'K', 'Q', 'D', 'R', 'E', 'Y',\n",
       "       'S', 'P', 'C', 'H', 'W', 'N', 'M'], dtype=object)"
      ]
     },
     "execution_count": 7,
     "metadata": {},
     "output_type": "execute_result"
    }
   ],
   "source": [
    "df[\"final_aa\"].unique()"
   ]
  },
  {
   "cell_type": "code",
   "execution_count": 8,
   "id": "f0291b3e",
   "metadata": {
    "scrolled": true
   },
   "outputs": [
    {
     "data": {
      "text/plain": [
       "array(['M', 'L', 'T', 'E', 'S', 'R', 'Y', 'G', 'V', 'N', 'A', 'I', 'D',\n",
       "       'H', 'W', 'P', 'F', 'Q', 'K', 'C'], dtype=object)"
      ]
     },
     "execution_count": 8,
     "metadata": {},
     "output_type": "execute_result"
    }
   ],
   "source": [
    "df[\"initial_aa\"].unique()"
   ]
  },
  {
   "cell_type": "markdown",
   "id": "777630c5",
   "metadata": {},
   "source": [
    "Ahora, el DataFrame tiene la siguiente forma:"
   ]
  },
  {
   "cell_type": "code",
   "execution_count": 9,
   "id": "ad68c019",
   "metadata": {},
   "outputs": [
    {
     "data": {
      "text/html": [
       "<div>\n",
       "<style scoped>\n",
       "    .dataframe tbody tr th:only-of-type {\n",
       "        vertical-align: middle;\n",
       "    }\n",
       "\n",
       "    .dataframe tbody tr th {\n",
       "        vertical-align: top;\n",
       "    }\n",
       "\n",
       "    .dataframe thead th {\n",
       "        text-align: right;\n",
       "    }\n",
       "</style>\n",
       "<table border=\"1\" class=\"dataframe\">\n",
       "  <thead>\n",
       "    <tr style=\"text-align: right;\">\n",
       "      <th></th>\n",
       "      <th>PrimaryDisease</th>\n",
       "      <th>Mutationppt</th>\n",
       "      <th>initial_aa</th>\n",
       "      <th>final_aa</th>\n",
       "      <th>position_aa</th>\n",
       "    </tr>\n",
       "  </thead>\n",
       "  <tbody>\n",
       "    <tr>\n",
       "      <th>0</th>\n",
       "      <td>pathogenic_variant</td>\n",
       "      <td>M1T</td>\n",
       "      <td>M</td>\n",
       "      <td>T</td>\n",
       "      <td>1</td>\n",
       "    </tr>\n",
       "    <tr>\n",
       "      <th>1</th>\n",
       "      <td>pathogenic_variant</td>\n",
       "      <td>M1V</td>\n",
       "      <td>M</td>\n",
       "      <td>V</td>\n",
       "      <td>1</td>\n",
       "    </tr>\n",
       "    <tr>\n",
       "      <th>2</th>\n",
       "      <td>pathogenic_variant</td>\n",
       "      <td>L107F</td>\n",
       "      <td>L</td>\n",
       "      <td>F</td>\n",
       "      <td>107</td>\n",
       "    </tr>\n",
       "    <tr>\n",
       "      <th>3</th>\n",
       "      <td>pathogenic_variant</td>\n",
       "      <td>T114A</td>\n",
       "      <td>T</td>\n",
       "      <td>A</td>\n",
       "      <td>114</td>\n",
       "    </tr>\n",
       "    <tr>\n",
       "      <th>4</th>\n",
       "      <td>pathogenic_variant</td>\n",
       "      <td>T114I</td>\n",
       "      <td>T</td>\n",
       "      <td>I</td>\n",
       "      <td>114</td>\n",
       "    </tr>\n",
       "  </tbody>\n",
       "</table>\n",
       "</div>"
      ],
      "text/plain": [
       "       PrimaryDisease Mutationppt initial_aa final_aa  position_aa\n",
       "0  pathogenic_variant         M1T          M        T            1\n",
       "1  pathogenic_variant         M1V          M        V            1\n",
       "2  pathogenic_variant       L107F          L        F          107\n",
       "3  pathogenic_variant       T114A          T        A          114\n",
       "4  pathogenic_variant       T114I          T        I          114"
      ]
     },
     "execution_count": 9,
     "metadata": {},
     "output_type": "execute_result"
    }
   ],
   "source": [
    "df.head()"
   ]
  },
  {
   "cell_type": "markdown",
   "id": "81ca9036",
   "metadata": {},
   "source": [
    "<br>\n",
    "<br>\n",
    "\n",
    "<u> **Localización topológica y dominios funcionales donde ocurren las mutaciones** </u>\n",
    "\n",
    "A partir de la columna creada de `df[\"position_aa\"]`, que registra la posición donde ocurre la mutación, se genera el descriptor `df[\"topological_domain\"]` con los dominios topológicos a los que corresponderían."
   ]
  },
  {
   "cell_type": "code",
   "execution_count": 10,
   "id": "fe9aac60",
   "metadata": {},
   "outputs": [],
   "source": [
    "df.loc[(df[\"position_aa\"] >= 1) & (df[\"position_aa\"] <= 91), \"topological_domain\"] = \"Cytoplasmic\"\n",
    "df.loc[(df[\"position_aa\"] >= 92) & (df[\"position_aa\"] <= 112), \"topological_domain\"] = \"S1\"\n",
    "df.loc[(df[\"position_aa\"] >= 113) & (df[\"position_aa\"] <= 122), \"topological_domain\"] = \"Extracelullar\"\n",
    "df.loc[(df[\"position_aa\"] >= 123) & (df[\"position_aa\"] <= 143), \"topological_domain\"] = \"S2\"\n",
    "df.loc[(df[\"position_aa\"] >= 144) & (df[\"position_aa\"] <= 166), \"topological_domain\"] = \"Cytoplasmic\"\n",
    "df.loc[(df[\"position_aa\"] >= 167) & (df[\"position_aa\"] <= 187), \"topological_domain\"] = \"S3\"\n",
    "df.loc[(df[\"position_aa\"] >= 188) & (df[\"position_aa\"] <= 195), \"topological_domain\"] = \"Extracelullar\"\n",
    "df.loc[(df[\"position_aa\"] >= 196) & (df[\"position_aa\"] <= 218), \"topological_domain\"] = \"S4\"\n",
    "df.loc[(df[\"position_aa\"] >= 219) & (df[\"position_aa\"] <= 231), \"topological_domain\"] = \"Cytoplasmic\"\n",
    "df.loc[(df[\"position_aa\"] >= 232) & (df[\"position_aa\"] <= 252), \"topological_domain\"] = \"S5\"\n",
    "df.loc[(df[\"position_aa\"] >= 253) & (df[\"position_aa\"] <= 264), \"topological_domain\"] = \"Extracelullar\"\n",
    "df.loc[(df[\"position_aa\"] >= 265) & (df[\"position_aa\"] <= 285), \"topological_domain\"] = \"Pore\"\n",
    "df.loc[(df[\"position_aa\"] >= 286) & (df[\"position_aa\"] <= 291), \"topological_domain\"] = \"Extracelullar\"\n",
    "df.loc[(df[\"position_aa\"] >= 292) & (df[\"position_aa\"] <= 312), \"topological_domain\"] = \"S6\"\n",
    "df.loc[(df[\"position_aa\"] >= 313) & (df[\"position_aa\"] <= 331), \"topological_domain\"] = \"Cytoplasmic\"\n",
    "df.loc[(df[\"position_aa\"] >= 332) & (df[\"position_aa\"] <= 350), \"topological_domain\"] = \"hA\"\n",
    "df.loc[(df[\"position_aa\"] >= 351) & (df[\"position_aa\"] <= 356), \"topological_domain\"] = \"Cytoplasmic\"\n",
    "df.loc[(df[\"position_aa\"] >= 357) & (df[\"position_aa\"] <= 366), \"topological_domain\"] = \"hTW\"\n",
    "df.loc[(df[\"position_aa\"] >= 367) & (df[\"position_aa\"] <= 534), \"topological_domain\"] = \"Cytoplasmic\"\n",
    "df.loc[(df[\"position_aa\"] >= 535) & (df[\"position_aa\"] <= 559), \"topological_domain\"] = \"hB\"\n",
    "df.loc[(df[\"position_aa\"] >= 560) & (df[\"position_aa\"] <= 562), \"topological_domain\"] = \"Cytoplasmic\"\n",
    "df.loc[(df[\"position_aa\"] >= 563) & (df[\"position_aa\"] <= 594), \"topological_domain\"] = \"hC\"\n",
    "df.loc[(df[\"position_aa\"] >= 595) & (df[\"position_aa\"] <= 621), \"topological_domain\"] = \"Cytoplasmic\"\n",
    "df.loc[(df[\"position_aa\"] >= 622) & (df[\"position_aa\"] <= 647), \"topological_domain\"] = \"hD\"\n",
    "df.loc[(df[\"position_aa\"] >= 648) & (df[\"position_aa\"] <= 872), \"topological_domain\"] = \"Cytoplasmic\""
   ]
  },
  {
   "cell_type": "markdown",
   "id": "20846f0d",
   "metadata": {},
   "source": [
    "Se comprueban los valores únicos de la columna creada para ver que no ha habido errores:"
   ]
  },
  {
   "cell_type": "code",
   "execution_count": 11,
   "id": "f240cfc5",
   "metadata": {},
   "outputs": [
    {
     "data": {
      "text/plain": [
       "array(['Cytoplasmic', 'S1', 'Extracelullar', 'S2', 'S3', 'S4', 'S5',\n",
       "       'Pore', 'S6', 'hA', 'hTW', 'hB', 'hC', 'hD'], dtype=object)"
      ]
     },
     "execution_count": 11,
     "metadata": {},
     "output_type": "execute_result"
    }
   ],
   "source": [
    "df[\"topological_domain\"].unique()"
   ]
  },
  {
   "cell_type": "markdown",
   "id": "d5ae422d",
   "metadata": {},
   "source": [
    "Siguiendo el mismo procedimiento que el descriptor anterior, se añade la información del dominio funcional correspondiente (`df[\"functional_domain\"]`)."
   ]
  },
  {
   "cell_type": "code",
   "execution_count": 12,
   "id": "cf0868db",
   "metadata": {},
   "outputs": [],
   "source": [
    "df.loc[(df[\"position_aa\"] >= 1) & (df[\"position_aa\"] <= 91), \"functional_domain\"] = \"unknown_function\"\n",
    "df.loc[(df[\"position_aa\"] >= 92) & (df[\"position_aa\"] <= 218), \"functional_domain\"] = \"voltage_domain\"\n",
    "df.loc[(df[\"position_aa\"] >= 219) & (df[\"position_aa\"] <= 231), \"functional_domain\"] = \"unknown_function\"\n",
    "df.loc[(df[\"position_aa\"] >= 232) & (df[\"position_aa\"] <= 276), \"functional_domain\"] = \"pore_domain\"\n",
    "df.loc[(df[\"position_aa\"] >= 277) & (df[\"position_aa\"] <= 282), \"functional_domain\"] = \"selectivity_filter\"\n",
    "df.loc[(df[\"position_aa\"] >= 283) & (df[\"position_aa\"] <= 312), \"functional_domain\"] = \"pore_domain\"\n",
    "df.loc[(df[\"position_aa\"] >= 313) & (df[\"position_aa\"] <= 331), \"functional_domain\"] = \"unknown_function\"\n",
    "df.loc[(df[\"position_aa\"] >= 332) & (df[\"position_aa\"] <= 559), \"functional_domain\"] = \"CaM_interaction\"\n",
    "df.loc[(df[\"position_aa\"] >= 560) & (df[\"position_aa\"] <= 562), \"functional_domain\"] = \"unknown_function\"\n",
    "df.loc[(df[\"position_aa\"] >= 563) & (df[\"position_aa\"] <= 647), \"functional_domain\"] = \"SID_domain\"\n",
    "df.loc[(df[\"position_aa\"] >= 648) & (df[\"position_aa\"] <= 872), \"functional_domain\"] = \"unknown_function\""
   ]
  },
  {
   "cell_type": "markdown",
   "id": "fce24628",
   "metadata": {},
   "source": [
    "Se comprueban los valores únicos de la columna creada para ver que no ha habido errores:"
   ]
  },
  {
   "cell_type": "code",
   "execution_count": 13,
   "id": "97fe7672",
   "metadata": {
    "scrolled": true
   },
   "outputs": [
    {
     "data": {
      "text/plain": [
       "array(['unknown_function', 'voltage_domain', 'pore_domain',\n",
       "       'selectivity_filter', 'CaM_interaction', 'SID_domain'],\n",
       "      dtype=object)"
      ]
     },
     "execution_count": 13,
     "metadata": {},
     "output_type": "execute_result"
    }
   ],
   "source": [
    "df[\"functional_domain\"].unique()"
   ]
  },
  {
   "cell_type": "markdown",
   "id": "30dae449",
   "metadata": {},
   "source": [
    "<br>\n",
    "<br>\n",
    "<br>\n",
    "\n",
    "<u> **char_initial_aa, char_final_aa** </u>\n",
    "\n",
    "Ahora, se van a crear otras dos columnas para hacer referencia al cambio de carga antes y después de la mutación. Primero, se va a crear `df[\"char_initial_aa\"]` y `df[\"char_final_aa\"]` a partir de `df[\"initial_aa\"]` y `df[\"final_aa\"]`, respectivamente. Los datos se han obtenido de Lodish, University Harvey, Berk, University Arnold, Kaiser, University Chris A, Krieger, University Monty, Bretscher, University Anthony, Ploegh, University Hidde, Scott, M. P., & Amon, A. (2012). Molecular Cell Biology (7th ed.). W. H. Freeman."
   ]
  },
  {
   "cell_type": "code",
   "execution_count": 14,
   "id": "b9cc90ad",
   "metadata": {},
   "outputs": [],
   "source": [
    "df['char_initial_aa'] = df['initial_aa']\n",
    "df['char_final_aa'] = df['final_aa']\n",
    "\n",
    "charge_map = {\n",
    "    'S':'neutral',\n",
    "    'T':'neutral',\n",
    "    'Q':'neutral',\n",
    "    'N':'neutral',\n",
    "    'Y':'neutral', \n",
    "    'C':'neutral',\n",
    "    'G':'neutral',\n",
    "    'A':'neutral',\n",
    "    'V':'neutral',\n",
    "    'L':'neutral',\n",
    "    'I':'neutral',\n",
    "    'M':'neutral',\n",
    "    'P':'neutral',\n",
    "    'F':'neutral',\n",
    "    'W':'neutral',\n",
    "    'D':'negative_acidic',\n",
    "    'E':'negative_acidic', \n",
    "    'K':'positive_basic',\n",
    "    'R':'positive_basic',\n",
    "    'H':'positive_basic'\n",
    "}"
   ]
  },
  {
   "cell_type": "markdown",
   "id": "e219f86e",
   "metadata": {},
   "source": [
    "Se comprueban los valores únicos de la columna creada para ver que no ha habido errores:"
   ]
  },
  {
   "cell_type": "code",
   "execution_count": 15,
   "id": "33f6c2be",
   "metadata": {},
   "outputs": [
    {
     "name": "stdout",
     "output_type": "stream",
     "text": [
      "['neutral' 'negative_acidic' 'positive_basic']\n",
      "['neutral' 'positive_basic' 'negative_acidic']\n"
     ]
    }
   ],
   "source": [
    "# char_initial_aa\n",
    "df[\"char_initial_aa\"].replace(charge_map, inplace=True)\n",
    "print(df[\"char_initial_aa\"].unique())\n",
    "\n",
    "# char_final_aa\n",
    "df[\"char_final_aa\"].replace(charge_map, inplace=True)\n",
    "print(df[\"char_final_aa\"].unique())"
   ]
  },
  {
   "cell_type": "markdown",
   "id": "7de2869f",
   "metadata": {},
   "source": [
    "<br>\n",
    "<br>\n",
    "<br>\n",
    "\n",
    "<u> **pol_initial_aa, pol_final_aa** </u>\n",
    "\n",
    "Se van a crear otras dos columnas para hacer referencia al cambio de polaridad antes y después de la mutación a nivel de aminoácido. Primero, se va a crear `df[\"pol_initial_aa\"]` y `df[\"pol_final_aa\"]` a partir de `df[\"initial_aa\"]` y `df[\"final_aa\"]`, respectivamente. Después, se procederá a la sustitución de sus valores mediante un mapeo."
   ]
  },
  {
   "cell_type": "code",
   "execution_count": 16,
   "id": "758da2eb",
   "metadata": {},
   "outputs": [],
   "source": [
    "df['pol_initial_aa'] = df['initial_aa']\n",
    "df['pol_final_aa'] = df['final_aa']\n",
    "\n",
    "\n",
    "pol_map = {\n",
    "    'S':'polar',\n",
    "    'T':'polar',\n",
    "    'Q':'polar',\n",
    "    'N':'polar',\n",
    "    'Y':'non_polar', \n",
    "    'C':'polar',\n",
    "    'G':'polar',\n",
    "    'A':'non_polar',\n",
    "    'V':'non_polar',\n",
    "    'L':'non_polar',\n",
    "    'I':'non_polar',\n",
    "    'M':'non_polar',\n",
    "    'P':'non_polar',\n",
    "    'F':'non_polar', \n",
    "    'W':'non_polar', \n",
    "    'D':'polar',\n",
    "    'E':'polar', \n",
    "    'K':'polar',\n",
    "    'R':'polar',\n",
    "    'H':'polar'   \n",
    "}"
   ]
  },
  {
   "cell_type": "markdown",
   "id": "1b04dc32",
   "metadata": {},
   "source": [
    "Se comprueban los valores únicos de la columna creada para ver que no ha habido errores:"
   ]
  },
  {
   "cell_type": "code",
   "execution_count": 17,
   "id": "51831623",
   "metadata": {},
   "outputs": [
    {
     "name": "stdout",
     "output_type": "stream",
     "text": [
      "['non_polar' 'polar']\n",
      "['polar' 'non_polar']\n"
     ]
    }
   ],
   "source": [
    "# pol_initial_aa\n",
    "df[\"pol_initial_aa\"].replace(pol_map, inplace=True)\n",
    "print(df[\"pol_initial_aa\"].unique())\n",
    "\n",
    "# pol_final_aa\n",
    "df[\"pol_final_aa\"].replace(pol_map, inplace=True)\n",
    "print(df[\"pol_final_aa\"].unique())"
   ]
  },
  {
   "cell_type": "markdown",
   "id": "56a91215",
   "metadata": {},
   "source": [
    "<br>\n",
    "<br>\n",
    "<br>\n",
    "\n",
    "<u> **aro_initial_aa, aro_final_aa** </u>\n",
    "\n",
    "Se van a crear otras dos columnas para hacer referencia al cambio de aromaticidad antes y después de la mutación a nivel aminoácido. Primero, se va a crear `df[\"aro_initial_aa\"]` y `df[\"aro_final_aa\"]` a partir de `df[\"initial_aa\"]` y `df[\"final_aa\"]`, respectivamente. Después, se procederá a la sustitución de sus valores mediante un mapeo."
   ]
  },
  {
   "cell_type": "code",
   "execution_count": 18,
   "id": "094bd462",
   "metadata": {},
   "outputs": [],
   "source": [
    "df['aro_initial_aa'] = df['initial_aa']\n",
    "df['aro_final_aa'] = df['final_aa']\n",
    "\n",
    "\n",
    "aro_map = {\n",
    "    'S':'non_aromatic',\n",
    "    'T':'non_aromatic',\n",
    "    'Q':'non_aromatic',\n",
    "    'N':'non_aromatic',\n",
    "    'Y':'aromatic', \n",
    "    'C':'non_aromatic',\n",
    "    'G':'non_aromatic',\n",
    "    'A':'non_aromatic',\n",
    "    'V':'non_aromatic',\n",
    "    'L':'non_aromatic',\n",
    "    'I':'non_aromatic',\n",
    "    'M':'non_aromatic',\n",
    "    'P':'non_aromatic',\n",
    "    'F':'aromatic', \n",
    "    'W':'aromatic',\n",
    "    'D':'non_aromatic',\n",
    "    'E':'non_aromatic', \n",
    "    'K':'non_aromatic',\n",
    "    'R':'non_aromatic',\n",
    "    'H':'non_aromatic'  \n",
    "}"
   ]
  },
  {
   "cell_type": "markdown",
   "id": "05f0ccf0",
   "metadata": {},
   "source": [
    "Se comprueban los valores únicos de la columna creada para ver que no ha habido errores:"
   ]
  },
  {
   "cell_type": "code",
   "execution_count": 19,
   "id": "3dc71648",
   "metadata": {},
   "outputs": [
    {
     "name": "stdout",
     "output_type": "stream",
     "text": [
      "['non_aromatic' 'aromatic']\n",
      "['non_aromatic' 'aromatic']\n"
     ]
    }
   ],
   "source": [
    "# aro_initial_aa\n",
    "df[\"aro_initial_aa\"].replace(aro_map, inplace=True)\n",
    "print(df[\"aro_initial_aa\"].unique())\n",
    "\n",
    "# aro_final_aa\n",
    "df[\"aro_final_aa\"].replace(aro_map, inplace=True)\n",
    "print(df[\"aro_final_aa\"].unique())"
   ]
  },
  {
   "cell_type": "markdown",
   "id": "f1cd3bf5",
   "metadata": {},
   "source": [
    "<br>\n",
    "<br>\n",
    "<br>\n",
    "\n",
    "<u> **Información molecular cuantitativa de los aminoácidos** </u>\n",
    "\n",
    "\n",
    "A continuación, se van a crear columnas adicionales para introducir datos moleculares de los aminoácidos iniciales y los que han sido sustituidos. \n",
    "\n",
    "* `df[\"mw_initial_aa\"]`. Recoge los pesos moleculares (*molecular weights*) en Dalton de los aminoácidos iniciales. \n",
    "* `df[\"mw_final_aa\"]`. Recoge los pesos moleculares (*molecular weights*) en Dalton de los aminoácidos finales. \n",
    "\n",
    "Con ese fin, se emplea un diccionario que luego se mappeará. Se realiza el mismo procedimiento que el realizado con anterioridad. Se ha empleado como tabla de valores la obtenida de Lide, D. R. (2007). CRC Handbook of Chemistry and Physics, 88th Edition. Taylor & Francis. [Página 1180](https://fap.if.usp.br/~jhsevero/Fisica_Experimental_C_Semestral_2020/crc.pdf)."
   ]
  },
  {
   "cell_type": "code",
   "execution_count": 20,
   "id": "4490889d",
   "metadata": {},
   "outputs": [],
   "source": [
    "df['mw_initial_aa'] = df['initial_aa']\n",
    "df['mw_final_aa'] = df['final_aa']\n",
    "\n",
    "\n",
    "mw_map = {\n",
    "    'S': 105.09,\n",
    "    'T': 119.12,\n",
    "    'Q': 146.15,\n",
    "    'N': 132.12,\n",
    "    'Y': 181.19, \n",
    "    'C': 121.16,\n",
    "    'G': 75.07,\n",
    "    'A': 89.09,\n",
    "    'V': 117.15,\n",
    "    'L': 131.17,\n",
    "    'I': 131.17,\n",
    "    'M': 149.21,\n",
    "    'P': 115.13,\n",
    "    'F': 165.19, \n",
    "    'W': 204.23,\n",
    "    'D': 133.10 ,\n",
    "    'E': 147.13, \n",
    "    'K': 146.19,\n",
    "    'R': 174.20,\n",
    "    'H': 155.16,\n",
    "    \n",
    "}"
   ]
  },
  {
   "cell_type": "markdown",
   "id": "843e257d",
   "metadata": {},
   "source": [
    "Se comprueban los valores únicos de la columna creada para ver que no ha habido errores:"
   ]
  },
  {
   "cell_type": "code",
   "execution_count": 21,
   "id": "1c30a6b2",
   "metadata": {},
   "outputs": [
    {
     "name": "stdout",
     "output_type": "stream",
     "text": [
      "[149.21 131.17 119.12 147.13 105.09 174.2  181.19  75.07 117.15 132.12\n",
      "  89.09 133.1  155.16 204.23 115.13 165.19 146.15 146.19 121.16]\n",
      "[119.12 117.15 165.19  89.09 131.17  75.07 146.19 146.15 133.1  174.2\n",
      " 147.13 181.19 105.09 115.13 121.16 155.16 204.23 132.12 149.21]\n"
     ]
    }
   ],
   "source": [
    "# mw_initial_aa\n",
    "df[\"mw_initial_aa\"].replace(mw_map, inplace=True)\n",
    "print(df[\"mw_initial_aa\"].unique())\n",
    "\n",
    "# mw_final_aa\n",
    "df[\"mw_final_aa\"].replace(mw_map, inplace=True)\n",
    "print(df[\"mw_final_aa\"].unique())"
   ]
  },
  {
   "cell_type": "markdown",
   "id": "1b66af7e",
   "metadata": {},
   "source": [
    "<br>\n",
    "\n",
    "Se van a crear una serie de descriptores nuevos basándose en Bogardt, R. A., Jones, B. N., Dwulet, F. E., Garner, W. H., Lehman, L. D., & Gurd, F. R. N. (1980). Evolution of the amino acid substitution in the mammalian myoglobin gene. Journal of Molecular Evolution, 15(3), 197–218. https://doi.org/10.1007/bf01732948. Todas las características aparecen en % estandarizados.\n",
    "\n",
    "* `df[\"v_e_initial_aa\"]`. Recoge los volúmenes estandarizados (en %) de los aminoácidos iniciales.\n",
    "* `df[\"v_e_final_aa\"]`. Recoge los volúmenes estandarizados (en %) de los aminoácidos finales.\n",
    "Con ese fin, se emplea un diccionario que luego se mappeará. Se realiza el mismo procedimiento que el realizado con anterioridad:"
   ]
  },
  {
   "cell_type": "code",
   "execution_count": 22,
   "id": "45571d03",
   "metadata": {},
   "outputs": [],
   "source": [
    "df['v_e_initial_aa'] = df['initial_aa']\n",
    "df['v_e_final_aa'] = df['final_aa']\n",
    "\n",
    "\n",
    "v_map = {\n",
    "    'K': 68.0,\n",
    "    'H': 49.2,\n",
    "    'R': 70.8,\n",
    "    'D': 31.3,\n",
    "    'E': 47.2,\n",
    "    'N': 35.4,\n",
    "    'Q': 51.3,\n",
    "    'S': 18.1,\n",
    "    'T': 34.0,\n",
    "    'C': 28.0,\n",
    "    'G': 0.0,\n",
    "    'A': 15.9,\n",
    "    'P': 41.0,\n",
    "    'V': 47.7,\n",
    "    'M': 62.8,\n",
    "    'I': 63.6,\n",
    "    'L': 63.6,\n",
    "    'Y': 78.5,\n",
    "    'F': 77.2,\n",
    "    'W': 100.0\n",
    "    \n",
    "}"
   ]
  },
  {
   "cell_type": "markdown",
   "id": "f2564457",
   "metadata": {},
   "source": [
    "Se comprueban los valores únicos de la columna creada para ver que no ha habido errores:"
   ]
  },
  {
   "cell_type": "code",
   "execution_count": 23,
   "id": "42729fe2",
   "metadata": {},
   "outputs": [
    {
     "name": "stdout",
     "output_type": "stream",
     "text": [
      "[ 62.8  63.6  34.   47.2  18.1  70.8  78.5   0.   47.7  35.4  15.9  31.3\n",
      "  49.2 100.   41.   77.2  51.3  68.   28. ]\n",
      "[ 34.   47.7  77.2  15.9  63.6   0.   68.   51.3  31.3  70.8  47.2  78.5\n",
      "  18.1  41.   28.   49.2 100.   35.4  62.8]\n"
     ]
    }
   ],
   "source": [
    "# v_e_initial_aa\n",
    "df[\"v_e_initial_aa\"].replace(v_map, inplace=True)\n",
    "print(df[\"v_e_initial_aa\"].unique())\n",
    "\n",
    "# v_e_final_aa\n",
    "df[\"v_e_final_aa\"].replace(v_map, inplace=True)\n",
    "print(df[\"v_e_final_aa\"].unique())"
   ]
  },
  {
   "cell_type": "markdown",
   "id": "8f1e008d",
   "metadata": {},
   "source": [
    "<br>\n",
    "\n",
    "* `df[\"pol_e_initial_aa\"]`. Recoge la polaridad estandarizada (en %) de los aminoácidos iniciales. Dato cuantitativo.\n",
    "* `df[\"pol_e_final_aa\"]`. Recoge la polaridad estandarizada (en %) de los aminoácidos finales. Dato cuantitativo.\n",
    "\n",
    "\n",
    "Con ese fin, se emplea un diccionario que luego se mappeará. Se realiza el mismo procedimiento que el realizado con anterioridad:"
   ]
  },
  {
   "cell_type": "code",
   "execution_count": 24,
   "id": "5ff83f1f",
   "metadata": {},
   "outputs": [],
   "source": [
    "df['pol_e_initial_aa'] = df['initial_aa']\n",
    "df['pol_e_final_aa'] = df['final_aa']\n",
    "\n",
    "\n",
    "p_map = {\n",
    "    'K': 64.2,\n",
    "    'H': 43.2,\n",
    "    'R': 51.9,\n",
    "    'D': 100.0,\n",
    "    'E': 93.8,\n",
    "    'N': 63.0,\n",
    "    'Q': 45.7,\n",
    "    'S': 32.1,\n",
    "    'T': 21.0,\n",
    "    'C': 7.4,\n",
    "    'G': 37.0,\n",
    "    'A': 25.9,\n",
    "    'P': 21.0,\n",
    "    'V': 8.6,\n",
    "    'M': 4.9,\n",
    "    'I': 0.0,\n",
    "    'L': 0.0,\n",
    "    'Y': 9.9,\n",
    "    'F': 1.2,\n",
    "    'W': 4.9\n",
    "    \n",
    "}"
   ]
  },
  {
   "cell_type": "markdown",
   "id": "77d492ec",
   "metadata": {},
   "source": [
    "Se comprueban los valores únicos de la columna creada para ver que no ha habido errores:"
   ]
  },
  {
   "cell_type": "code",
   "execution_count": 25,
   "id": "157f469b",
   "metadata": {},
   "outputs": [
    {
     "name": "stdout",
     "output_type": "stream",
     "text": [
      "[  4.9   0.   21.   93.8  32.1  51.9   9.9  37.    8.6  63.   25.9 100.\n",
      "  43.2   1.2  45.7  64.2   7.4]\n",
      "[ 21.    8.6   1.2  25.9   0.   37.   64.2  45.7 100.   51.9  93.8   9.9\n",
      "  32.1   7.4  43.2   4.9  63. ]\n"
     ]
    }
   ],
   "source": [
    "# pol_e_initial_aa\n",
    "df[\"pol_e_initial_aa\"].replace(p_map, inplace=True)\n",
    "print(df[\"pol_e_initial_aa\"].unique())\n",
    "\n",
    "# pol_e_final_aa\n",
    "df[\"pol_e_final_aa\"].replace(p_map, inplace=True)\n",
    "print(df[\"pol_e_final_aa\"].unique())"
   ]
  },
  {
   "cell_type": "markdown",
   "id": "74b35d7c",
   "metadata": {},
   "source": [
    "<br>\n",
    "\n",
    "* `df[\"ip_e_initial_aa\"]`. Recoge el punto isoeléctrico estandarizado (en %) de los aminoácidos iniciales. \n",
    "* `df[\"ip_e_final_aa\"]`. Recoge el punto isoeléctrico estandarizado  (en %) de los aminoácidos finales. \n",
    "\n",
    "\n",
    "Con ese fin, se emplea un diccionario que luego se mappeará. Se realiza el mismo procedimiento que el realizado con anterioridad:"
   ]
  },
  {
   "cell_type": "code",
   "execution_count": 26,
   "id": "508dbf71",
   "metadata": {},
   "outputs": [],
   "source": [
    "df['ip_e_initial_aa'] = df['initial_aa']\n",
    "df['ip_e_final_aa'] = df['final_aa']\n",
    "\n",
    "\n",
    "ip_e_map = {\n",
    "    'K': 86.9 ,\n",
    "    'H': 59.2,\n",
    "    'R': 100.0,\n",
    "    'D': 0.0,\n",
    "    'E': 3.2,\n",
    "    'N': 31.3,\n",
    "    'Q': 34.4,\n",
    "    'S': 34.8,\n",
    "    'T': 45.7,\n",
    "    'C': 26.3,\n",
    "    'G': 38.5,\n",
    "    'A': 39.2,\n",
    "    'P': 40.2,\n",
    "    'V': 38.5,\n",
    "    'M': 35.7,\n",
    "    'I': 39.2,\n",
    "    'L': 38.6,\n",
    "    'Y': 34.4,\n",
    "    'F': 38.6,\n",
    "    'W': 37.7\n",
    "    \n",
    "}"
   ]
  },
  {
   "cell_type": "markdown",
   "id": "032db395",
   "metadata": {},
   "source": [
    "Se comprueban los valores únicos de la columna creada para ver que no ha habido errores:"
   ]
  },
  {
   "cell_type": "code",
   "execution_count": 27,
   "id": "b41f1488",
   "metadata": {},
   "outputs": [
    {
     "name": "stdout",
     "output_type": "stream",
     "text": [
      "[ 35.7  38.6  45.7   3.2  34.8 100.   34.4  38.5  31.3  39.2   0.   59.2\n",
      "  37.7  40.2  86.9  26.3]\n",
      "[ 45.7  38.5  38.6  39.2  86.9  34.4   0.  100.    3.2  34.8  40.2  26.3\n",
      "  59.2  37.7  31.3  35.7]\n"
     ]
    }
   ],
   "source": [
    "# ip_e_initial_aa\n",
    "df[\"ip_e_initial_aa\"].replace(ip_e_map, inplace=True)\n",
    "print(df[\"ip_e_initial_aa\"].unique())\n",
    "\n",
    "# ip_e_final_aa\n",
    "df[\"ip_e_final_aa\"].replace(ip_e_map, inplace=True)\n",
    "print(df[\"ip_e_final_aa\"].unique())"
   ]
  },
  {
   "cell_type": "markdown",
   "id": "9b106a2d",
   "metadata": {},
   "source": [
    "<br>\n",
    "\n",
    "* `df[\"hf_e_initial_aa\"]`. Recoge la hidrofobicidad estandarizada (en %) de los aminoácidos iniciales. \n",
    "* `df[\"hf_e_final_aa\"]`. Recoge la hidrofobicidad estandarizada (en %) de los aminoácidos finales. \n",
    "\n",
    "\n",
    "Con ese fin, se emplea un diccionario que luego se mappeará. Se realiza el mismo procedimiento que el realizado con anterioridad:"
   ]
  },
  {
   "cell_type": "code",
   "execution_count": 28,
   "id": "20b5bb53",
   "metadata": {},
   "outputs": [],
   "source": [
    "df['hf_e_initial_aa'] = df['initial_aa']\n",
    "df['hf_e_final_aa'] = df['final_aa']\n",
    "\n",
    "\n",
    "hf_e_map = {\n",
    "    'K': 43.5,\n",
    "    'H': 23.1,\n",
    "    'R': 22.6,\n",
    "    'D': 17.5,\n",
    "    'E': 17.8,\n",
    "    'N': 2.4,\n",
    "    'Q': 0.0,\n",
    "    'S': 1.9,\n",
    "    'T': 1.9,\n",
    "    'C': 40.3,\n",
    "    'G': 2.7,\n",
    "    'A': 23.1,\n",
    "    'P': 73.5,\n",
    "    'V': 49.6,\n",
    "    'M': 44.3,\n",
    "    'I': 83.6,\n",
    "    'L': 57.6,\n",
    "    'Y': 70.8,\n",
    "    'F': 76.1,\n",
    "    'W': 100.0 \n",
    "    \n",
    "}"
   ]
  },
  {
   "cell_type": "markdown",
   "id": "1c48a432",
   "metadata": {},
   "source": [
    "Se comprueban los valores únicos de la columna creada para ver que no ha habido errores:"
   ]
  },
  {
   "cell_type": "code",
   "execution_count": 29,
   "id": "824f1006",
   "metadata": {},
   "outputs": [
    {
     "name": "stdout",
     "output_type": "stream",
     "text": [
      "[ 44.3  57.6   1.9  17.8  22.6  70.8   2.7  49.6   2.4  23.1  83.6  17.5\n",
      " 100.   73.5  76.1   0.   43.5  40.3]\n",
      "[  1.9  49.6  76.1  23.1  83.6   2.7  57.6  43.5   0.   17.5  22.6  17.8\n",
      "  70.8  73.5  40.3 100.    2.4  44.3]\n"
     ]
    }
   ],
   "source": [
    "# hf_e_initial_aa\n",
    "df[\"hf_e_initial_aa\"].replace(hf_e_map, inplace=True)\n",
    "print(df[\"hf_e_initial_aa\"].unique())\n",
    "\n",
    "# hf_e_final_aa\n",
    "df[\"hf_e_final_aa\"].replace(hf_e_map, inplace=True)\n",
    "print(df[\"hf_e_final_aa\"].unique())"
   ]
  },
  {
   "cell_type": "markdown",
   "id": "d9ca3702",
   "metadata": {},
   "source": [
    "<br>\n",
    "\n",
    "* `df[\"msa_e_initial_aa\"]`. Recoge la accesibilidad media del solvente estandarizada (en %) de los aminoácidos iniciales. \n",
    "* `df[\"msa_e_final_aa\"]`. Recoge la accesibilidad media del solvente estandarizada (en %) de los aminoácidos finales. \n",
    "\n",
    "Con ese fin, se emplea un diccionario que luego se mappeará. Se realiza el mismo procedimiento que el realizado con anterioridad:"
   ]
  },
  {
   "cell_type": "code",
   "execution_count": 30,
   "id": "4fb0710f",
   "metadata": {},
   "outputs": [],
   "source": [
    "df['msa_e_initial_aa'] = df['initial_aa']\n",
    "df['msa_e_final_aa'] = df['final_aa']\n",
    "\n",
    "\n",
    "msa_map = {\n",
    "    'K': 54.3,\n",
    "    'H': 28.1,\n",
    "    'R': 50.1,\n",
    "    'D': 45.0,\n",
    "    'E': 48.6,\n",
    "    'N': 46.1,\n",
    "    'Q': 43.6,\n",
    "    'S': 40.5,\n",
    "    'T': 35.3,\n",
    "    'C': 7.4,\n",
    "    'G': 54.0,\n",
    "    'A': 37.4,\n",
    "    'P': 66.2,\n",
    "    'V': 19.6,\n",
    "    'M': 3.9,\n",
    "    'I': 7.5,\n",
    "    'L': 10.1,\n",
    "    'Y': 30.1,\n",
    "    'F': 5.5,\n",
    "    'W': 13.8 \n",
    "    \n",
    "}"
   ]
  },
  {
   "cell_type": "markdown",
   "id": "7d8afa9c",
   "metadata": {},
   "source": [
    "Se comprueban los valores únicos de la columna creada para ver que no ha habido errores:"
   ]
  },
  {
   "cell_type": "code",
   "execution_count": 31,
   "id": "fda5c068",
   "metadata": {},
   "outputs": [
    {
     "name": "stdout",
     "output_type": "stream",
     "text": [
      "[ 3.9 10.1 35.3 48.6 40.5 50.1 30.1 54.  19.6 46.1 37.4  7.5 45.  28.1\n",
      " 13.8 66.2  5.5 43.6 54.3  7.4]\n",
      "[35.3 19.6  5.5 37.4  7.5 54.  10.1 54.3 43.6 45.  50.1 48.6 30.1 40.5\n",
      " 66.2  7.4 28.1 13.8 46.1  3.9]\n"
     ]
    }
   ],
   "source": [
    "# msa_e_initial_aa\n",
    "df[\"msa_e_initial_aa\"].replace(msa_map, inplace=True)\n",
    "print(df[\"msa_e_initial_aa\"].unique())\n",
    "\n",
    "# msa_e_final_aa\n",
    "df[\"msa_e_final_aa\"].replace(msa_map, inplace=True)\n",
    "print(df[\"msa_e_final_aa\"].unique())"
   ]
  },
  {
   "cell_type": "markdown",
   "id": "1930078d",
   "metadata": {},
   "source": [
    "<br>\n",
    "\n",
    "**NOTA**. No existe ningún error de los que se observaban en anteriores notebooks. Se han corregido todos los errores de formato. Si al ampliar la tabla se respeta el formato del archivo introducido no habrá problemas en la ampliación de la tabla a lo ancho (ampliación de descriptores).\n",
    "\n",
    "<br>\n",
    "\n",
    "Se van a añadir dos columnas adicionales que hacen referencia a los valores de hidrofobicidad de los aminoácidos sin estandarizar:\n",
    "\n",
    "* `df[\"hf_initial_aa\"]`. Recoge la hidrofobicidad de los aminoácidos iniciales. \n",
    "* `df[\"hf_final_aa\"]`. Recoge la hidrofobicidad de los aminoácidos finales. \n",
    "\n",
    "Se toma como referencia el paper de Kyte J, Doolittle RF. A simple method for displaying the hydropathic character of a protein. J. Mol. Biol. 1982;157:105–132."
   ]
  },
  {
   "cell_type": "code",
   "execution_count": 32,
   "id": "1c7fc9d6",
   "metadata": {},
   "outputs": [],
   "source": [
    "df['hf_initial_aa'] = df['initial_aa']\n",
    "df['hf_final_aa'] = df['final_aa']\n",
    "\n",
    "\n",
    "hf_map = {\n",
    "    'K': -3.9,\n",
    "    'H': -3.2,\n",
    "    'R': -4.5,\n",
    "    'D': -3.5,\n",
    "    'E': -3.5,\n",
    "    'N': -3.5,\n",
    "    'Q': -3.5,\n",
    "    'S': -0.8,\n",
    "    'T': -0.7,\n",
    "    'C': 2.5,\n",
    "    'G': -0.4,\n",
    "    'A': 1.8,\n",
    "    'P': -1.6,\n",
    "    'V': 4.2,\n",
    "    'M': 1.9,\n",
    "    'I': 4.5,\n",
    "    'L': 3.8,\n",
    "    'Y': -1.3,\n",
    "    'F': 2.8,\n",
    "    'W': -0.9\n",
    "    \n",
    "}"
   ]
  },
  {
   "cell_type": "markdown",
   "id": "27270338",
   "metadata": {},
   "source": [
    "Se comprueban los valores únicos de la columna creada para ver que no ha habido errores:"
   ]
  },
  {
   "cell_type": "code",
   "execution_count": 33,
   "id": "f4597c15",
   "metadata": {},
   "outputs": [
    {
     "name": "stdout",
     "output_type": "stream",
     "text": [
      "[ 1.9  3.8 -0.7 -3.5 -0.8 -4.5 -1.3 -0.4  4.2  1.8  4.5 -3.2 -0.9 -1.6\n",
      "  2.8 -3.9  2.5]\n",
      "[-0.7  4.2  2.8  1.8  4.5 -0.4  3.8 -3.9 -3.5 -4.5 -1.3 -0.8 -1.6  2.5\n",
      " -3.2 -0.9  1.9]\n"
     ]
    }
   ],
   "source": [
    "# hf_initial_aa\n",
    "df[\"hf_initial_aa\"].replace(hf_map, inplace=True)\n",
    "print(df[\"hf_initial_aa\"].unique())\n",
    "\n",
    "# hf_final_aa\n",
    "df[\"hf_final_aa\"].replace(hf_map, inplace=True)\n",
    "print(df[\"hf_final_aa\"].unique())"
   ]
  },
  {
   "cell_type": "markdown",
   "id": "7dba6114",
   "metadata": {},
   "source": [
    "<br>\n",
    "\n",
    "<u> **Columnas de cambio** </u>\n",
    "\n",
    "\n",
    "Se van a crear descriptores adicionales según el paper de [Asier Larrea *et al.*, 2021](https://pubmed.ncbi.nlm.nih.gov/34869944/). Estas columnas adicionales de cambio recogerán la variación entre el valor del aminoácido incial y del aminoácido mutado. Concretamente, se crearán las siguientes columnas:\n",
    "\n",
    "* `df[\"d_charge\"]`: recoge el cambio de carga tras la mutación. Necesita codificación al ser datos cualitativos. Emplea como base las columnas `df[\"char_initial_aa\"]` y `df[\"char_final_aa\"]`.\n",
    "* `df[\"d_pol\"]`: recoge el cambio de polaridad tras la mutación. Necesita codificación al ser datos cualitativos. Emplea como base las columnas `df[\"pol_initial_aa\"]` y `df[\"pol_final_aa\"]`.\n",
    "* `df[\"d_aro\"]`: recoge el cambio de polaridad tras la mutación. Necesita codificación al ser datos cualitativos. Emplea como base las columnas `df[\"aro_initial_aa\"]` y `df[\"aro_final_aa\"]`.\n",
    "* `df[\"d_size\"]`: recoge el cambio de tamaño tras la mutación. NO necesita codificación al ser un dato cuantitativo. Emplea como base los descriptores `df[\"mw_initial_aa\"]` y `df[\"mw_final_aa\"]`.\n",
    "* `df[\"d_hf\"]`: recoge el cambio de hidrofobicidad tras la mutación. NO necesita codificación al ser un dato cuantitativo. Emplea como base los descriptores `df[\"hf_initial_aa\"]` y `df[\"hf_final_aa\"]`.\n",
    "* `df[\"d_vol\"]`: recoge el cambio de volumen tras la mutación. NO necesita codificación al ser un dato cuantitativo. Emplea como base los descriptores de volúmenes **estandarizados** `df[\"v_e_initial_aa\"]` y `df[\"v_e_final_aa\"]`.\n",
    "* `df[\"d_msa\"]`: recoge el cambio de accesibilidad media del solvente tras la mutación. NO necesita codificación al ser un dato cuantitativo. Emplea como base los descriptores de msa **estandarizados** `df[\"msa_e_initial_aa\"]` y `df[\"msa_e_final_aa\"]`.\n",
    "\n",
    "\n",
    "Se empieza creando las columnas cuantitativas por no necesitar codificación previa. Ej.: el descriptor `df[\"d_size\"]` se obtiene restando las columnas de peso molecular del aminoácido previo y posterior a la mutación, es decir, `df[\"mw_initial_aa\"]` y `df[\"mw_final_aa\"]`."
   ]
  },
  {
   "cell_type": "code",
   "execution_count": 34,
   "id": "43d4995f",
   "metadata": {},
   "outputs": [],
   "source": [
    "# d_size\n",
    "df[\"d_size\"] = df[\"mw_initial_aa\"] - df[\"mw_final_aa\"]\n",
    "\n",
    "# d_hf\n",
    "df[\"d_hf\"] = df[\"hf_initial_aa\"] - df[\"hf_final_aa\"]\n",
    "\n",
    "# d_vol\n",
    "df[\"d_vol\"] = df[\"v_e_initial_aa\"] - df[\"v_e_final_aa\"]\n",
    "\n",
    "# d_hf\n",
    "df[\"d_msa\"] = df[\"msa_e_initial_aa\"] - df[\"msa_e_final_aa\"]"
   ]
  },
  {
   "cell_type": "markdown",
   "id": "fb2d5ef7",
   "metadata": {},
   "source": [
    "Se comprueban los valores únicos de la columna creada para ver que no ha habido errores:"
   ]
  },
  {
   "cell_type": "code",
   "execution_count": 35,
   "id": "7eb97ab6",
   "metadata": {},
   "outputs": [
    {
     "data": {
      "text/plain": [
       "array([-31.4, -15.7,   4.6,  -2.1,  27.8,  -5.4,  30.4,  -5.7,   6.5,\n",
       "       -14.9,   3.9,   5.4,   9.5,  10.4,  34.4,   5.6, -25.7,  17.8,\n",
       "       -56.1,  42.7,  22. , -12.1,  36.3,  -9. , -10.8, -15.5, -30.9,\n",
       "       -28.8,  26.7, -34.4,   2.1,  40.2,  14.9, -16. ,  -3.6,   3.7,\n",
       "       -21.5,  31.4,  46.6,   2. ,  22.7,  38.1,  13.5,   9. ,   9.6,\n",
       "        -3.9, -16.6, -35. ,  -4.6, -40. , -36.3,  -9.5,  35. , -19. ,\n",
       "        62.3, -22.6,   3.6,  19. ,  40. ,   8.2,   5.7,  25.7,  56.1,\n",
       "        -1.1, -25.4,  -3.6,   3.6,  10.8,  -2.6,  -6.5, -16.1, -22.7,\n",
       "        15.7,   6.4,  25.4,  -8.2,  38.6,  15.5, -33.5,  28.8,  -2. ,\n",
       "         4.2, -30.4, -38.6, -11.2, -27.8,  -5.2,  -1.9,  -3.1, -46.6,\n",
       "         5. ,  50.4,   7.6,  33.1,  -7.6, -10.7,   1.9, -18. , -38.1,\n",
       "       -50.4, -42.7, -26.7,  30.9,  16.6, -17.8, -22. ,  24.6,  16.9,\n",
       "         5.2,  12.1,  -4.2,  16.1, -40.2,  18. ,   6.2])"
      ]
     },
     "execution_count": 35,
     "metadata": {},
     "output_type": "execute_result"
    }
   ],
   "source": [
    "df[\"d_msa\"].unique()"
   ]
  },
  {
   "cell_type": "code",
   "execution_count": 36,
   "id": "94b96dc3",
   "metadata": {},
   "outputs": [
    {
     "data": {
      "text/plain": [
       "array([  28.8,   15.1,  -13.6,   18.1,  -29.6,   47.2,  -45.5,  -20.8,\n",
       "         19.5,  -70.8,  -47.2,  -15.9,  -60.4,  -47.7,   17.3,  -22.9,\n",
       "        -31.8,   22.6,   42.8,   21.6,   15.9,  -29.2,   31.3,   -1.4,\n",
       "         -2.1,   -7. ,  -25.1,  -81.9,   47.7,  -18.1, -100. ,   43.1,\n",
       "        -15.9,   36.4,   66. ,  -28.8,  -28. ,   29.3,   50.5,   -8.2,\n",
       "        -31.3,   52.7,   70.8,   15.9,   59.1,   13.6,   -7.2,   29.2,\n",
       "        -59.1,  -34. ,  -21.8,   10.3,   15.9,   34. ,    7.2,   32.6,\n",
       "         20.8,   22.9,  -22.6,   -4.1,   16.4,   -0.8,    0.8,    1.4,\n",
       "          0. ,  -19.5,   29.8,  -50.5,  -15.1,   72. ,  -16.4,  -32.6,\n",
       "        -28.2,    2.1,   12.3,   25.1,  -29.3,   -2.8,   45.5,   28.2,\n",
       "        -31.3,   29.6,   49.2,   -2.2,   28. ,   -4.1,    5.2,   15.4,\n",
       "         -9.9,  -15.4,  -16.7,  -49.2,   14.4,    8.2,   13.8,   -5.2,\n",
       "        -42.8,   81.9,    7. ,  -15.9,   31.8,  -21.6,    1.3,  -17.9,\n",
       "          2.8,  -29.8,  100. ,  -13.8])"
      ]
     },
     "execution_count": 36,
     "metadata": {},
     "output_type": "execute_result"
    }
   ],
   "source": [
    "df[\"d_vol\"].unique()"
   ]
  },
  {
   "cell_type": "markdown",
   "id": "e5a4f329",
   "metadata": {},
   "source": [
    "A continuación, se diseña la codificación de las columnas cualitativas. Esta codificación es necesaria para registrar los cambios. Ej.: para registrar el cambio de carga `df[\"d_charge\"]`, si el aminoácido inicial era positivo (pos) y el final era negativo (neg), el cambio se registra como \"pos_to_neg\"; si el aminoácido inicial era positivo (pos) y el final también lo es, el NO cambio se registra como \"pos_to_pos\"."
   ]
  },
  {
   "cell_type": "code",
   "execution_count": 37,
   "id": "5a495659",
   "metadata": {},
   "outputs": [
    {
     "data": {
      "text/plain": [
       "array(['neu_to_neu', 'neg_to_neu', 'neg_to_pos', 'pos_to_neu',\n",
       "       'neu_to_neg', 'neu_to_pos', 'pos_to_pos', 'neg_to_neg',\n",
       "       'pos_to_neg'], dtype=object)"
      ]
     },
     "execution_count": 37,
     "metadata": {},
     "output_type": "execute_result"
    }
   ],
   "source": [
    "# d_charge:\n",
    "df.loc[(df[\"char_initial_aa\"] == \"positive_basic\") & (df[\"char_final_aa\"] == \"positive_basic\"), \"d_charge\"] = \"pos_to_pos\"\n",
    "df.loc[(df[\"char_initial_aa\"] == \"positive_basic\") & (df[\"char_final_aa\"] == \"negative_acidic\"), \"d_charge\"] = \"pos_to_neg\"\n",
    "df.loc[(df[\"char_initial_aa\"] == \"positive_basic\") & (df[\"char_final_aa\"] == \"neutral\"), \"d_charge\"] = \"pos_to_neu\"\n",
    "df.loc[(df[\"char_initial_aa\"] == \"negative_acidic\") & (df[\"char_final_aa\"] == \"positive_basic\"), \"d_charge\"] = \"neg_to_pos\"\n",
    "df.loc[(df[\"char_initial_aa\"] == \"negative_acidic\") & (df[\"char_final_aa\"] == \"negative_acidic\"), \"d_charge\"] = \"neg_to_neg\"\n",
    "df.loc[(df[\"char_initial_aa\"] == \"negative_acidic\") & (df[\"char_final_aa\"] == \"neutral\"), \"d_charge\"] = \"neg_to_neu\"\n",
    "df.loc[(df[\"char_initial_aa\"] == \"neutral\") & (df[\"char_final_aa\"] == \"positive_basic\"), \"d_charge\"] = \"neu_to_pos\"\n",
    "df.loc[(df[\"char_initial_aa\"] == \"neutral\") & (df[\"char_final_aa\"] == \"negative_acidic\"), \"d_charge\"] = \"neu_to_neg\"\n",
    "df.loc[(df[\"char_initial_aa\"] == \"neutral\") & (df[\"char_final_aa\"] == \"neutral\"), \"d_charge\"] = \"neu_to_neu\"\n",
    "\n",
    "# Check if everything was ok\n",
    "df[\"d_charge\"].unique()"
   ]
  },
  {
   "cell_type": "markdown",
   "id": "76df9b79",
   "metadata": {},
   "source": [
    "Con la misma idea, se genera los descriptores `df[\"d_pol\"]` y  `df[\"d_aro\"]`"
   ]
  },
  {
   "cell_type": "code",
   "execution_count": 38,
   "id": "83d37ac4",
   "metadata": {},
   "outputs": [
    {
     "data": {
      "text/plain": [
       "array(['np_to_p', 'np_to_np', 'p_to_np', 'p_to_p'], dtype=object)"
      ]
     },
     "execution_count": 38,
     "metadata": {},
     "output_type": "execute_result"
    }
   ],
   "source": [
    "# d_pol:\n",
    "df.loc[(df[\"pol_initial_aa\"] == \"polar\") & (df[\"pol_final_aa\"] == \"polar\"), \"d_pol\"] = \"p_to_p\"\n",
    "df.loc[(df[\"pol_initial_aa\"] == \"polar\") & (df[\"pol_final_aa\"] == \"non_polar\"), \"d_pol\"] = \"p_to_np\"\n",
    "df.loc[(df[\"pol_initial_aa\"] == \"non_polar\") & (df[\"pol_final_aa\"] == \"polar\"), \"d_pol\"] = \"np_to_p\"\n",
    "df.loc[(df[\"pol_initial_aa\"] == \"non_polar\") & (df[\"pol_final_aa\"] == \"non_polar\"), \"d_pol\"] = \"np_to_np\"\n",
    "\n",
    "# Check if everything was ok\n",
    "df[\"d_pol\"].unique()"
   ]
  },
  {
   "cell_type": "code",
   "execution_count": 39,
   "id": "0bd5c8b2",
   "metadata": {},
   "outputs": [
    {
     "data": {
      "text/plain": [
       "array(['na_to_na', 'na_to_a', 'a_to_na', 'a_to_a'], dtype=object)"
      ]
     },
     "execution_count": 39,
     "metadata": {},
     "output_type": "execute_result"
    }
   ],
   "source": [
    "# d_aro:\n",
    "df.loc[(df[\"aro_initial_aa\"] == \"aromatic\") & (df[\"aro_final_aa\"] == \"aromatic\"), \"d_aro\"] = \"a_to_a\"\n",
    "df.loc[(df[\"aro_initial_aa\"] == \"aromatic\") & (df[\"aro_final_aa\"] == \"non_aromatic\"), \"d_aro\"] = \"a_to_na\"\n",
    "df.loc[(df[\"aro_initial_aa\"] == \"non_aromatic\") & (df[\"aro_final_aa\"] == \"aromatic\"), \"d_aro\"] = \"na_to_a\"\n",
    "df.loc[(df[\"aro_initial_aa\"] == \"non_aromatic\") & (df[\"aro_final_aa\"] == \"non_aromatic\"), \"d_aro\"] = \"na_to_na\"\n",
    "\n",
    "# Check if everything was ok\n",
    "df[\"d_aro\"].unique()"
   ]
  },
  {
   "cell_type": "markdown",
   "id": "f8f3a25a",
   "metadata": {},
   "source": [
    "<br>\n",
    "\n",
    "<u> **Descriptores estructurales y evolutivos** </u>\n",
    "\n",
    "Por último, se añaden los descriptores estructurales y evolutivos:\n",
    "* `df[\"r_conserv\"]`: que recogería la conservación evolutiva del residuo donde ocurre la mutación.\n",
    "* `df[\"secondary_str\"]`: recogería la estructura secundaria del canal Kv7.2 donde ocurre la mutación, es decir, si cae en una hélice alfa, coiled coil...etc. \n",
    "\n",
    "Para añadir la **(A) conservación evolutiva** se va a abrir el fichero donde se calcularon las conservaciones de cada posición para el caso de O43526."
   ]
  },
  {
   "cell_type": "code",
   "execution_count": 40,
   "id": "f532ee16",
   "metadata": {},
   "outputs": [],
   "source": [
    "# Load conservation file and define a df\n",
    "condf = pd.read_csv('FINAL_plot_conservation.csv', header = \"infer\")"
   ]
  },
  {
   "cell_type": "code",
   "execution_count": 41,
   "id": "f217d3b8",
   "metadata": {
    "scrolled": true
   },
   "outputs": [
    {
     "name": "stdout",
     "output_type": "stream",
     "text": [
      "<class 'pandas.core.frame.DataFrame'>\n",
      "RangeIndex: 872 entries, 0 to 871\n",
      "Data columns (total 2 columns):\n",
      " #   Column        Non-Null Count  Dtype  \n",
      "---  ------        --------------  -----  \n",
      " 0   Residue       872 non-null    int64  \n",
      " 1   Conservation  872 non-null    float64\n",
      "dtypes: float64(1), int64(1)\n",
      "memory usage: 13.8 KB\n"
     ]
    }
   ],
   "source": [
    "condf.info()"
   ]
  },
  {
   "cell_type": "markdown",
   "id": "cb27ccaf",
   "metadata": {},
   "source": [
    "El archivo presenta dos columnas, una con la posición del residuo (`condf[\"Residue\"]`) y otra con el valor de conservación calculado para ese mismo residuo (`condf[\"Conservation\"]`):"
   ]
  },
  {
   "cell_type": "code",
   "execution_count": 42,
   "id": "2a3f3282",
   "metadata": {},
   "outputs": [
    {
     "data": {
      "text/html": [
       "<div>\n",
       "<style scoped>\n",
       "    .dataframe tbody tr th:only-of-type {\n",
       "        vertical-align: middle;\n",
       "    }\n",
       "\n",
       "    .dataframe tbody tr th {\n",
       "        vertical-align: top;\n",
       "    }\n",
       "\n",
       "    .dataframe thead th {\n",
       "        text-align: right;\n",
       "    }\n",
       "</style>\n",
       "<table border=\"1\" class=\"dataframe\">\n",
       "  <thead>\n",
       "    <tr style=\"text-align: right;\">\n",
       "      <th></th>\n",
       "      <th>Residue</th>\n",
       "      <th>Conservation</th>\n",
       "    </tr>\n",
       "  </thead>\n",
       "  <tbody>\n",
       "    <tr>\n",
       "      <th>0</th>\n",
       "      <td>1</td>\n",
       "      <td>0.61970</td>\n",
       "    </tr>\n",
       "    <tr>\n",
       "      <th>1</th>\n",
       "      <td>2</td>\n",
       "      <td>0.65838</td>\n",
       "    </tr>\n",
       "    <tr>\n",
       "      <th>2</th>\n",
       "      <td>3</td>\n",
       "      <td>0.71927</td>\n",
       "    </tr>\n",
       "    <tr>\n",
       "      <th>3</th>\n",
       "      <td>4</td>\n",
       "      <td>0.74279</td>\n",
       "    </tr>\n",
       "    <tr>\n",
       "      <th>4</th>\n",
       "      <td>5</td>\n",
       "      <td>0.73004</td>\n",
       "    </tr>\n",
       "  </tbody>\n",
       "</table>\n",
       "</div>"
      ],
      "text/plain": [
       "   Residue  Conservation\n",
       "0        1       0.61970\n",
       "1        2       0.65838\n",
       "2        3       0.71927\n",
       "3        4       0.74279\n",
       "4        5       0.73004"
      ]
     },
     "execution_count": 42,
     "metadata": {},
     "output_type": "execute_result"
    }
   ],
   "source": [
    "condf.head()"
   ]
  },
  {
   "cell_type": "markdown",
   "id": "d4891239",
   "metadata": {},
   "source": [
    "Se realiza un procesado del fichero según las necesidades:"
   ]
  },
  {
   "cell_type": "code",
   "execution_count": 43,
   "id": "12bf3780",
   "metadata": {},
   "outputs": [],
   "source": [
    "# Create a dict with res as keys and conserv as valeus\n",
    "d = {}\n",
    "for v in condf.iterrows():\n",
    "    res = int(v[1][0]) # residues\n",
    "    con = float(v[1][1]) # conservation\n",
    "    d[res] = con\n",
    "    \n",
    "# lists\n",
    "res = [i for i in d.keys()]\n",
    "con = [i for i in d.values()]\n",
    "lpos = [i for i in df[\"position_aa\"]]"
   ]
  },
  {
   "cell_type": "markdown",
   "id": "7ff3d032",
   "metadata": {},
   "source": [
    "Pare diseñar el descriptor, nos tenemos que quedar con los valores de conservación para los cuales exista un número de residuo (`consdf[\"Residue\"]`) y una posición del residuo (`df[\"position_aa\"]`) compartidas. Ej.: me quedaré con el valor de conservación correspondiendte cuando `consdf[\"Residue\"]` = `df[\"position_aa\"]`. Para eso:"
   ]
  },
  {
   "cell_type": "code",
   "execution_count": 44,
   "id": "bd9a284d",
   "metadata": {
    "scrolled": false
   },
   "outputs": [
    {
     "data": {
      "text/html": [
       "<div>\n",
       "<style scoped>\n",
       "    .dataframe tbody tr th:only-of-type {\n",
       "        vertical-align: middle;\n",
       "    }\n",
       "\n",
       "    .dataframe tbody tr th {\n",
       "        vertical-align: top;\n",
       "    }\n",
       "\n",
       "    .dataframe thead th {\n",
       "        text-align: right;\n",
       "    }\n",
       "</style>\n",
       "<table border=\"1\" class=\"dataframe\">\n",
       "  <thead>\n",
       "    <tr style=\"text-align: right;\">\n",
       "      <th></th>\n",
       "      <th>PrimaryDisease</th>\n",
       "      <th>Mutationppt</th>\n",
       "      <th>initial_aa</th>\n",
       "      <th>final_aa</th>\n",
       "      <th>position_aa</th>\n",
       "      <th>topological_domain</th>\n",
       "      <th>functional_domain</th>\n",
       "      <th>char_initial_aa</th>\n",
       "      <th>char_final_aa</th>\n",
       "      <th>pol_initial_aa</th>\n",
       "      <th>...</th>\n",
       "      <th>hf_initial_aa</th>\n",
       "      <th>hf_final_aa</th>\n",
       "      <th>d_size</th>\n",
       "      <th>d_hf</th>\n",
       "      <th>d_vol</th>\n",
       "      <th>d_msa</th>\n",
       "      <th>d_charge</th>\n",
       "      <th>d_pol</th>\n",
       "      <th>d_aro</th>\n",
       "      <th>r_conserv</th>\n",
       "    </tr>\n",
       "  </thead>\n",
       "  <tbody>\n",
       "    <tr>\n",
       "      <th>0</th>\n",
       "      <td>pathogenic_variant</td>\n",
       "      <td>M1T</td>\n",
       "      <td>M</td>\n",
       "      <td>T</td>\n",
       "      <td>1</td>\n",
       "      <td>Cytoplasmic</td>\n",
       "      <td>unknown_function</td>\n",
       "      <td>neutral</td>\n",
       "      <td>neutral</td>\n",
       "      <td>non_polar</td>\n",
       "      <td>...</td>\n",
       "      <td>1.9</td>\n",
       "      <td>-0.7</td>\n",
       "      <td>30.09</td>\n",
       "      <td>2.6</td>\n",
       "      <td>28.8</td>\n",
       "      <td>-31.4</td>\n",
       "      <td>neu_to_neu</td>\n",
       "      <td>np_to_p</td>\n",
       "      <td>na_to_na</td>\n",
       "      <td>0.61970</td>\n",
       "    </tr>\n",
       "    <tr>\n",
       "      <th>1</th>\n",
       "      <td>pathogenic_variant</td>\n",
       "      <td>M1V</td>\n",
       "      <td>M</td>\n",
       "      <td>V</td>\n",
       "      <td>1</td>\n",
       "      <td>Cytoplasmic</td>\n",
       "      <td>unknown_function</td>\n",
       "      <td>neutral</td>\n",
       "      <td>neutral</td>\n",
       "      <td>non_polar</td>\n",
       "      <td>...</td>\n",
       "      <td>1.9</td>\n",
       "      <td>4.2</td>\n",
       "      <td>32.06</td>\n",
       "      <td>-2.3</td>\n",
       "      <td>15.1</td>\n",
       "      <td>-15.7</td>\n",
       "      <td>neu_to_neu</td>\n",
       "      <td>np_to_np</td>\n",
       "      <td>na_to_na</td>\n",
       "      <td>0.61970</td>\n",
       "    </tr>\n",
       "    <tr>\n",
       "      <th>2</th>\n",
       "      <td>pathogenic_variant</td>\n",
       "      <td>L107F</td>\n",
       "      <td>L</td>\n",
       "      <td>F</td>\n",
       "      <td>107</td>\n",
       "      <td>S1</td>\n",
       "      <td>voltage_domain</td>\n",
       "      <td>neutral</td>\n",
       "      <td>neutral</td>\n",
       "      <td>non_polar</td>\n",
       "      <td>...</td>\n",
       "      <td>3.8</td>\n",
       "      <td>2.8</td>\n",
       "      <td>-34.02</td>\n",
       "      <td>1.0</td>\n",
       "      <td>-13.6</td>\n",
       "      <td>4.6</td>\n",
       "      <td>neu_to_neu</td>\n",
       "      <td>np_to_np</td>\n",
       "      <td>na_to_a</td>\n",
       "      <td>0.78350</td>\n",
       "    </tr>\n",
       "    <tr>\n",
       "      <th>3</th>\n",
       "      <td>pathogenic_variant</td>\n",
       "      <td>T114A</td>\n",
       "      <td>T</td>\n",
       "      <td>A</td>\n",
       "      <td>114</td>\n",
       "      <td>Extracelullar</td>\n",
       "      <td>voltage_domain</td>\n",
       "      <td>neutral</td>\n",
       "      <td>neutral</td>\n",
       "      <td>polar</td>\n",
       "      <td>...</td>\n",
       "      <td>-0.7</td>\n",
       "      <td>1.8</td>\n",
       "      <td>30.03</td>\n",
       "      <td>-2.5</td>\n",
       "      <td>18.1</td>\n",
       "      <td>-2.1</td>\n",
       "      <td>neu_to_neu</td>\n",
       "      <td>p_to_np</td>\n",
       "      <td>na_to_na</td>\n",
       "      <td>0.80304</td>\n",
       "    </tr>\n",
       "    <tr>\n",
       "      <th>4</th>\n",
       "      <td>pathogenic_variant</td>\n",
       "      <td>T114I</td>\n",
       "      <td>T</td>\n",
       "      <td>I</td>\n",
       "      <td>114</td>\n",
       "      <td>Extracelullar</td>\n",
       "      <td>voltage_domain</td>\n",
       "      <td>neutral</td>\n",
       "      <td>neutral</td>\n",
       "      <td>polar</td>\n",
       "      <td>...</td>\n",
       "      <td>-0.7</td>\n",
       "      <td>4.5</td>\n",
       "      <td>-12.05</td>\n",
       "      <td>-5.2</td>\n",
       "      <td>-29.6</td>\n",
       "      <td>27.8</td>\n",
       "      <td>neu_to_neu</td>\n",
       "      <td>p_to_np</td>\n",
       "      <td>na_to_na</td>\n",
       "      <td>0.80304</td>\n",
       "    </tr>\n",
       "    <tr>\n",
       "      <th>5</th>\n",
       "      <td>pathogenic_variant</td>\n",
       "      <td>E119G</td>\n",
       "      <td>E</td>\n",
       "      <td>G</td>\n",
       "      <td>119</td>\n",
       "      <td>Extracelullar</td>\n",
       "      <td>voltage_domain</td>\n",
       "      <td>negative_acidic</td>\n",
       "      <td>neutral</td>\n",
       "      <td>polar</td>\n",
       "      <td>...</td>\n",
       "      <td>-3.5</td>\n",
       "      <td>-0.4</td>\n",
       "      <td>72.06</td>\n",
       "      <td>-3.1</td>\n",
       "      <td>47.2</td>\n",
       "      <td>-5.4</td>\n",
       "      <td>neg_to_neu</td>\n",
       "      <td>p_to_p</td>\n",
       "      <td>na_to_na</td>\n",
       "      <td>0.76221</td>\n",
       "    </tr>\n",
       "    <tr>\n",
       "      <th>6</th>\n",
       "      <td>pathogenic_variant</td>\n",
       "      <td>S122L</td>\n",
       "      <td>S</td>\n",
       "      <td>L</td>\n",
       "      <td>122</td>\n",
       "      <td>Extracelullar</td>\n",
       "      <td>voltage_domain</td>\n",
       "      <td>neutral</td>\n",
       "      <td>neutral</td>\n",
       "      <td>polar</td>\n",
       "      <td>...</td>\n",
       "      <td>-0.8</td>\n",
       "      <td>3.8</td>\n",
       "      <td>-26.08</td>\n",
       "      <td>-4.6</td>\n",
       "      <td>-45.5</td>\n",
       "      <td>30.4</td>\n",
       "      <td>neu_to_neu</td>\n",
       "      <td>p_to_np</td>\n",
       "      <td>na_to_na</td>\n",
       "      <td>0.74631</td>\n",
       "    </tr>\n",
       "    <tr>\n",
       "      <th>7</th>\n",
       "      <td>pathogenic_variant</td>\n",
       "      <td>E130K</td>\n",
       "      <td>E</td>\n",
       "      <td>K</td>\n",
       "      <td>130</td>\n",
       "      <td>S2</td>\n",
       "      <td>voltage_domain</td>\n",
       "      <td>negative_acidic</td>\n",
       "      <td>positive_basic</td>\n",
       "      <td>polar</td>\n",
       "      <td>...</td>\n",
       "      <td>-3.5</td>\n",
       "      <td>-3.9</td>\n",
       "      <td>0.94</td>\n",
       "      <td>0.4</td>\n",
       "      <td>-20.8</td>\n",
       "      <td>-5.7</td>\n",
       "      <td>neg_to_pos</td>\n",
       "      <td>p_to_p</td>\n",
       "      <td>na_to_na</td>\n",
       "      <td>0.80182</td>\n",
       "    </tr>\n",
       "    <tr>\n",
       "      <th>8</th>\n",
       "      <td>pathogenic_variant</td>\n",
       "      <td>R144Q</td>\n",
       "      <td>R</td>\n",
       "      <td>Q</td>\n",
       "      <td>144</td>\n",
       "      <td>Cytoplasmic</td>\n",
       "      <td>voltage_domain</td>\n",
       "      <td>positive_basic</td>\n",
       "      <td>neutral</td>\n",
       "      <td>polar</td>\n",
       "      <td>...</td>\n",
       "      <td>-4.5</td>\n",
       "      <td>-3.5</td>\n",
       "      <td>28.05</td>\n",
       "      <td>-1.0</td>\n",
       "      <td>19.5</td>\n",
       "      <td>6.5</td>\n",
       "      <td>pos_to_neu</td>\n",
       "      <td>p_to_p</td>\n",
       "      <td>na_to_na</td>\n",
       "      <td>0.84035</td>\n",
       "    </tr>\n",
       "    <tr>\n",
       "      <th>9</th>\n",
       "      <td>pathogenic_variant</td>\n",
       "      <td>Y154D</td>\n",
       "      <td>Y</td>\n",
       "      <td>D</td>\n",
       "      <td>154</td>\n",
       "      <td>Cytoplasmic</td>\n",
       "      <td>voltage_domain</td>\n",
       "      <td>neutral</td>\n",
       "      <td>negative_acidic</td>\n",
       "      <td>non_polar</td>\n",
       "      <td>...</td>\n",
       "      <td>-1.3</td>\n",
       "      <td>-3.5</td>\n",
       "      <td>48.09</td>\n",
       "      <td>2.2</td>\n",
       "      <td>47.2</td>\n",
       "      <td>-14.9</td>\n",
       "      <td>neu_to_neg</td>\n",
       "      <td>np_to_p</td>\n",
       "      <td>a_to_na</td>\n",
       "      <td>0.88678</td>\n",
       "    </tr>\n",
       "  </tbody>\n",
       "</table>\n",
       "<p>10 rows × 35 columns</p>\n",
       "</div>"
      ],
      "text/plain": [
       "       PrimaryDisease Mutationppt initial_aa final_aa  position_aa  \\\n",
       "0  pathogenic_variant         M1T          M        T            1   \n",
       "1  pathogenic_variant         M1V          M        V            1   \n",
       "2  pathogenic_variant       L107F          L        F          107   \n",
       "3  pathogenic_variant       T114A          T        A          114   \n",
       "4  pathogenic_variant       T114I          T        I          114   \n",
       "5  pathogenic_variant       E119G          E        G          119   \n",
       "6  pathogenic_variant       S122L          S        L          122   \n",
       "7  pathogenic_variant       E130K          E        K          130   \n",
       "8  pathogenic_variant       R144Q          R        Q          144   \n",
       "9  pathogenic_variant       Y154D          Y        D          154   \n",
       "\n",
       "  topological_domain functional_domain  char_initial_aa    char_final_aa  \\\n",
       "0        Cytoplasmic  unknown_function          neutral          neutral   \n",
       "1        Cytoplasmic  unknown_function          neutral          neutral   \n",
       "2                 S1    voltage_domain          neutral          neutral   \n",
       "3      Extracelullar    voltage_domain          neutral          neutral   \n",
       "4      Extracelullar    voltage_domain          neutral          neutral   \n",
       "5      Extracelullar    voltage_domain  negative_acidic          neutral   \n",
       "6      Extracelullar    voltage_domain          neutral          neutral   \n",
       "7                 S2    voltage_domain  negative_acidic   positive_basic   \n",
       "8        Cytoplasmic    voltage_domain   positive_basic          neutral   \n",
       "9        Cytoplasmic    voltage_domain          neutral  negative_acidic   \n",
       "\n",
       "  pol_initial_aa  ... hf_initial_aa hf_final_aa d_size  d_hf  d_vol  d_msa  \\\n",
       "0      non_polar  ...           1.9        -0.7  30.09   2.6   28.8  -31.4   \n",
       "1      non_polar  ...           1.9         4.2  32.06  -2.3   15.1  -15.7   \n",
       "2      non_polar  ...           3.8         2.8 -34.02   1.0  -13.6    4.6   \n",
       "3          polar  ...          -0.7         1.8  30.03  -2.5   18.1   -2.1   \n",
       "4          polar  ...          -0.7         4.5 -12.05  -5.2  -29.6   27.8   \n",
       "5          polar  ...          -3.5        -0.4  72.06  -3.1   47.2   -5.4   \n",
       "6          polar  ...          -0.8         3.8 -26.08  -4.6  -45.5   30.4   \n",
       "7          polar  ...          -3.5        -3.9   0.94   0.4  -20.8   -5.7   \n",
       "8          polar  ...          -4.5        -3.5  28.05  -1.0   19.5    6.5   \n",
       "9      non_polar  ...          -1.3        -3.5  48.09   2.2   47.2  -14.9   \n",
       "\n",
       "     d_charge     d_pol     d_aro  r_conserv  \n",
       "0  neu_to_neu   np_to_p  na_to_na    0.61970  \n",
       "1  neu_to_neu  np_to_np  na_to_na    0.61970  \n",
       "2  neu_to_neu  np_to_np   na_to_a    0.78350  \n",
       "3  neu_to_neu   p_to_np  na_to_na    0.80304  \n",
       "4  neu_to_neu   p_to_np  na_to_na    0.80304  \n",
       "5  neg_to_neu    p_to_p  na_to_na    0.76221  \n",
       "6  neu_to_neu   p_to_np  na_to_na    0.74631  \n",
       "7  neg_to_pos    p_to_p  na_to_na    0.80182  \n",
       "8  pos_to_neu    p_to_p  na_to_na    0.84035  \n",
       "9  neu_to_neg   np_to_p   a_to_na    0.88678  \n",
       "\n",
       "[10 rows x 35 columns]"
      ]
     },
     "execution_count": 44,
     "metadata": {},
     "output_type": "execute_result"
    }
   ],
   "source": [
    "lcons = []\n",
    "\n",
    "for i in range(len(lpos)):\n",
    "    for j in range(len(res)):\n",
    "        if lpos[i] == res[j]:\n",
    "            lcons.append(con[j])\n",
    "\n",
    "# Create that column in df:\n",
    "df[\"r_conserv\"] = lcons \n",
    "df.head(10)"
   ]
  },
  {
   "cell_type": "markdown",
   "id": "e261dcd8",
   "metadata": {},
   "source": [
    "<br>\n",
    "\n",
    "Por último, se incluye el descriptor de **(B) estructura secundaria** donde ocurre la mutación. Para localizar en qué estructura secundaria ocurre la mutación voy a hacer uso de herramientas bioinformáticas que me van a permitir predecir la estructura secundaria de la secuencia fasta de O43526. Esto lo tengo que hacer de esta manera puesto que no se encuentra completamente resuelta la estructura del canal a día de hoy. Con el fin de obtener la estructura secundaria se empleó el método predictor de estructura secundaria PROTEUS2 (http://www.proteus2.ca/proteus2/). Como opciones adicionales se especifica que se trata de una secuencia eucariota y le proporciono el PDB 7cr3.pdb para que haga *homollogy modelling*. Dejo por defecto la opción de *run energy minimization* porque puede mejorar la precisión del modelo aunque pueda tardar un poco más."
   ]
  },
  {
   "cell_type": "code",
   "execution_count": 45,
   "id": "69561195",
   "metadata": {},
   "outputs": [
    {
     "data": {
      "text/plain": [
       "'CCCCCCCCCCCCCCHHHHHHHHCCECCCCCCCCCCCCCCCCCCCCCCCCCCCCCCCCCCCCCCCCCCCCCCCHHHHHHHHHHHHHHCCCCHHHTTTTTTTTTTTTTTTTTTTTTTCHHHHHHHHHCTTTTTTTTTTTTTTTTTTTTTTCCCCCCCCCCCCCHHHHHHHCTTTTTTTTTTTTTTTTTTCHHHHHHHHHHHHCTTTTTTTTTTTTTTTTCCHHHHHHHHHHHHCCCTTTTTTTTTTTTTTTTTTTTTTTTTCCCCCCCCTTTTTTTTTTTTTCCCCCCCCCCCTTTTTTTTTTTTTTTTTTTCTTTTTTTTCHHHHHHHHHHHHHHHHHHHHHHHHHHHHHCCCCCCCHHHCCCCCCCCCCCCCCCCCCCCCCCCCCCCHHHHHCCCCCCCCCCCCCCCCCCCCCCCCCCCCCCCCCCCCCCCCCCCECCCCCCCCCCCCCCCCCCCCCCCCCCCCCCCCCCCCCCCCCCCCCCCCCCCCCCCCCCCCCCCCCCCCCCCCCCCCCCCCCCCCCCCCCCCCCCCCCCCCCCCECHHHHHHHHHHHHHHHHHCCCCCHHHHHHHHHHCHHHHHHHHHHHHHHHHCCCCCCCCCCCCCCCCCCCCCCCCCCCHHHHHHHHHHHHHHHHHHHHHHHHHHHHHHHCCCCCCCCCECCCCCCCCCCCCCCCCCCCCCCCCCCCEEEEEEEEEECCCCCCCCCCCCCCCCCCCCCCCCCCCCCCCCCCCCCCCCCCEEECCCCHHHHHHHHHHHCCCCCCCCCCCCCCCCCCCCCCCCCCCCCCCCCECCCCCCCCCCCCCCCCCCCCCCCCCCCCCCCCCCCCCCCCCCCCCCCCCCCCCCCCCCCCCCCCCCCCCCCCCCCCCCCCCCC'"
      ]
     },
     "execution_count": 45,
     "metadata": {},
     "output_type": "execute_result"
    }
   ],
   "source": [
    "# output of proteus2\n",
    "prot2 = \"CCCCCCCCCCCCCCHHHHHHHHCCECCCCCCCCCCCCCCCCCCCCCCCCCCCCCCCCCCCCCCCCCCCCCCCHHHHHHHHHHHHHHCCCCHHHTTTTTTTTTTTTTTTTTTTTTTCHHHHHHHHHCTTTTTTTTTTTTTTTTTTTTTTCCCCCCCCCCCCCHHHHHHHCTTTTTTTTTTTTTTTTTTCHHHHHHHHHHHHCTTTTTTTTTTTTTTTTCCHHHHHHHHHHHHCCCTTTTTTTTTTTTTTTTTTTTTTTTTCCCCCCCCTTTTTTTTTTTTTCCCCCCCCCCCTTTTTTTTTTTTTTTTTTTCTTTTTTTTCHHHHHHHHHHHHHHHHHHHHHHHHHHHHHCCCCCCCHHHCCCCCCCCCCCCCCCCCCCCCCCCCCCCHHHHHCCCCCCCCCCCCCCCCCCCCCCCCCCCCCCCCCCCCCCCCCCCECCCCCCCCCCCCCCCCCCCCCCCCCCCCCCCCCCCCCCCCCCCCCCCCCCCCCCCCCCCCCCCCCCCCCCCCCCCCCCCCCCCCCCCCCCCCCCCCCCCCCCCECHHHHHHHHHHHHHHHHHCCCCCHHHHHHHHHHCHHHHHHHHHHHHHHHHCCCCCCCCCCCCCCCCCCCCCCCCCCCHHHHHHHHHHHHHHHHHHHHHHHHHHHHHHHCCCCCCCCCECCCCCCCCCCCCCCCCCCCCCCCCCCCEEEEEEEEEECCCCCCCCCCCCCCCCCCCCCCCCCCCCCCCCCCCCCCCCCCEEECCCCHHHHHHHHHHHCCCCCCCCCCCCCCCCCCCCCCCCCCCCCCCCCECCCCCCCCCCCCCCCCCCCCCCCCCCCCCCCCCCCCCCCCCCCCCCCCCCCCCCCCCCCCCCCCCCCCCCCCCCCCCCCCCCC\"\n",
    "prot2"
   ]
  },
  {
   "cell_type": "markdown",
   "id": "dc3ebd96",
   "metadata": {},
   "source": [
    "Se realiza el cambio mencionado con anterioridad. Pare diseñar el descriptor, nos tenemos que quedar con los valores de conservación para los cuales exista un número de residuo (`consdf[\"Residue\"]`) y una posición del residuo (`df[\"position_aa\"]`) compartidas. Ej.: me quedaré con el valor de conservación correspondiendte cuando `consdf[\"Residue\"]` = `df[\"position_aa\"]`. Para eso:"
   ]
  },
  {
   "cell_type": "code",
   "execution_count": 46,
   "id": "d2930f46",
   "metadata": {},
   "outputs": [
    {
     "data": {
      "text/plain": [
       "array(['C', 'H', 'T', 'E'], dtype=object)"
      ]
     },
     "execution_count": 46,
     "metadata": {},
     "output_type": "execute_result"
    }
   ],
   "source": [
    "lpos = [i for i in df[\"position_aa\"]] # mutation positions in db\n",
    "lss = []\n",
    "\n",
    "for i in range(len(prot2)):\n",
    "    for j in lpos:\n",
    "        if i+1 == j:\n",
    "            lss.append(prot2[i+1])\n",
    "\n",
    "# Create that column in df:\n",
    "df[\"sec_str\"] = lss\n",
    "df[\"sec_str\"].unique()"
   ]
  },
  {
   "cell_type": "markdown",
   "id": "46364345",
   "metadata": {},
   "source": [
    "Por último, se mappean los valores únicos para que no se confundan con aminoácidos. Se mappea según la nomenclatura de PROTEUS2:\n",
    "* H = Helix.\n",
    "* E = Beta Strand.\n",
    "* C = Coil.\n",
    "* T = Memebrane helix."
   ]
  },
  {
   "cell_type": "code",
   "execution_count": 47,
   "id": "5ec10976",
   "metadata": {},
   "outputs": [
    {
     "name": "stdout",
     "output_type": "stream",
     "text": [
      "['coil' 'helix' 'membrane_helix' 'beta_strand']\n"
     ]
    }
   ],
   "source": [
    "ss_map = {\n",
    "    'C':'coil',\n",
    "    'T':'membrane_helix',\n",
    "    'H':'helix',\n",
    "    'E':'beta_strand'  \n",
    "}\n",
    "\n",
    "# pol_initial_aa\n",
    "df[\"sec_str\"].replace(ss_map, inplace=True)\n",
    "print(df[\"sec_str\"].unique())"
   ]
  },
  {
   "cell_type": "markdown",
   "id": "4f02890a",
   "metadata": {},
   "source": [
    "El DataFrame final sería el siguiente:"
   ]
  },
  {
   "cell_type": "code",
   "execution_count": 48,
   "id": "1beec225",
   "metadata": {
    "scrolled": false
   },
   "outputs": [
    {
     "data": {
      "text/html": [
       "<div>\n",
       "<style scoped>\n",
       "    .dataframe tbody tr th:only-of-type {\n",
       "        vertical-align: middle;\n",
       "    }\n",
       "\n",
       "    .dataframe tbody tr th {\n",
       "        vertical-align: top;\n",
       "    }\n",
       "\n",
       "    .dataframe thead th {\n",
       "        text-align: right;\n",
       "    }\n",
       "</style>\n",
       "<table border=\"1\" class=\"dataframe\">\n",
       "  <thead>\n",
       "    <tr style=\"text-align: right;\">\n",
       "      <th></th>\n",
       "      <th>PrimaryDisease</th>\n",
       "      <th>Mutationppt</th>\n",
       "      <th>initial_aa</th>\n",
       "      <th>final_aa</th>\n",
       "      <th>position_aa</th>\n",
       "      <th>topological_domain</th>\n",
       "      <th>functional_domain</th>\n",
       "      <th>char_initial_aa</th>\n",
       "      <th>char_final_aa</th>\n",
       "      <th>pol_initial_aa</th>\n",
       "      <th>...</th>\n",
       "      <th>hf_final_aa</th>\n",
       "      <th>d_size</th>\n",
       "      <th>d_hf</th>\n",
       "      <th>d_vol</th>\n",
       "      <th>d_msa</th>\n",
       "      <th>d_charge</th>\n",
       "      <th>d_pol</th>\n",
       "      <th>d_aro</th>\n",
       "      <th>r_conserv</th>\n",
       "      <th>sec_str</th>\n",
       "    </tr>\n",
       "  </thead>\n",
       "  <tbody>\n",
       "    <tr>\n",
       "      <th>0</th>\n",
       "      <td>pathogenic_variant</td>\n",
       "      <td>M1T</td>\n",
       "      <td>M</td>\n",
       "      <td>T</td>\n",
       "      <td>1</td>\n",
       "      <td>Cytoplasmic</td>\n",
       "      <td>unknown_function</td>\n",
       "      <td>neutral</td>\n",
       "      <td>neutral</td>\n",
       "      <td>non_polar</td>\n",
       "      <td>...</td>\n",
       "      <td>-0.7</td>\n",
       "      <td>30.09</td>\n",
       "      <td>2.6</td>\n",
       "      <td>28.8</td>\n",
       "      <td>-31.4</td>\n",
       "      <td>neu_to_neu</td>\n",
       "      <td>np_to_p</td>\n",
       "      <td>na_to_na</td>\n",
       "      <td>0.61970</td>\n",
       "      <td>coil</td>\n",
       "    </tr>\n",
       "    <tr>\n",
       "      <th>1</th>\n",
       "      <td>pathogenic_variant</td>\n",
       "      <td>M1V</td>\n",
       "      <td>M</td>\n",
       "      <td>V</td>\n",
       "      <td>1</td>\n",
       "      <td>Cytoplasmic</td>\n",
       "      <td>unknown_function</td>\n",
       "      <td>neutral</td>\n",
       "      <td>neutral</td>\n",
       "      <td>non_polar</td>\n",
       "      <td>...</td>\n",
       "      <td>4.2</td>\n",
       "      <td>32.06</td>\n",
       "      <td>-2.3</td>\n",
       "      <td>15.1</td>\n",
       "      <td>-15.7</td>\n",
       "      <td>neu_to_neu</td>\n",
       "      <td>np_to_np</td>\n",
       "      <td>na_to_na</td>\n",
       "      <td>0.61970</td>\n",
       "      <td>coil</td>\n",
       "    </tr>\n",
       "    <tr>\n",
       "      <th>2</th>\n",
       "      <td>pathogenic_variant</td>\n",
       "      <td>L107F</td>\n",
       "      <td>L</td>\n",
       "      <td>F</td>\n",
       "      <td>107</td>\n",
       "      <td>S1</td>\n",
       "      <td>voltage_domain</td>\n",
       "      <td>neutral</td>\n",
       "      <td>neutral</td>\n",
       "      <td>non_polar</td>\n",
       "      <td>...</td>\n",
       "      <td>2.8</td>\n",
       "      <td>-34.02</td>\n",
       "      <td>1.0</td>\n",
       "      <td>-13.6</td>\n",
       "      <td>4.6</td>\n",
       "      <td>neu_to_neu</td>\n",
       "      <td>np_to_np</td>\n",
       "      <td>na_to_a</td>\n",
       "      <td>0.78350</td>\n",
       "      <td>coil</td>\n",
       "    </tr>\n",
       "    <tr>\n",
       "      <th>3</th>\n",
       "      <td>pathogenic_variant</td>\n",
       "      <td>T114A</td>\n",
       "      <td>T</td>\n",
       "      <td>A</td>\n",
       "      <td>114</td>\n",
       "      <td>Extracelullar</td>\n",
       "      <td>voltage_domain</td>\n",
       "      <td>neutral</td>\n",
       "      <td>neutral</td>\n",
       "      <td>polar</td>\n",
       "      <td>...</td>\n",
       "      <td>1.8</td>\n",
       "      <td>30.03</td>\n",
       "      <td>-2.5</td>\n",
       "      <td>18.1</td>\n",
       "      <td>-2.1</td>\n",
       "      <td>neu_to_neu</td>\n",
       "      <td>p_to_np</td>\n",
       "      <td>na_to_na</td>\n",
       "      <td>0.80304</td>\n",
       "      <td>coil</td>\n",
       "    </tr>\n",
       "    <tr>\n",
       "      <th>4</th>\n",
       "      <td>pathogenic_variant</td>\n",
       "      <td>T114I</td>\n",
       "      <td>T</td>\n",
       "      <td>I</td>\n",
       "      <td>114</td>\n",
       "      <td>Extracelullar</td>\n",
       "      <td>voltage_domain</td>\n",
       "      <td>neutral</td>\n",
       "      <td>neutral</td>\n",
       "      <td>polar</td>\n",
       "      <td>...</td>\n",
       "      <td>4.5</td>\n",
       "      <td>-12.05</td>\n",
       "      <td>-5.2</td>\n",
       "      <td>-29.6</td>\n",
       "      <td>27.8</td>\n",
       "      <td>neu_to_neu</td>\n",
       "      <td>p_to_np</td>\n",
       "      <td>na_to_na</td>\n",
       "      <td>0.80304</td>\n",
       "      <td>coil</td>\n",
       "    </tr>\n",
       "    <tr>\n",
       "      <th>5</th>\n",
       "      <td>pathogenic_variant</td>\n",
       "      <td>E119G</td>\n",
       "      <td>E</td>\n",
       "      <td>G</td>\n",
       "      <td>119</td>\n",
       "      <td>Extracelullar</td>\n",
       "      <td>voltage_domain</td>\n",
       "      <td>negative_acidic</td>\n",
       "      <td>neutral</td>\n",
       "      <td>polar</td>\n",
       "      <td>...</td>\n",
       "      <td>-0.4</td>\n",
       "      <td>72.06</td>\n",
       "      <td>-3.1</td>\n",
       "      <td>47.2</td>\n",
       "      <td>-5.4</td>\n",
       "      <td>neg_to_neu</td>\n",
       "      <td>p_to_p</td>\n",
       "      <td>na_to_na</td>\n",
       "      <td>0.76221</td>\n",
       "      <td>helix</td>\n",
       "    </tr>\n",
       "    <tr>\n",
       "      <th>6</th>\n",
       "      <td>pathogenic_variant</td>\n",
       "      <td>S122L</td>\n",
       "      <td>S</td>\n",
       "      <td>L</td>\n",
       "      <td>122</td>\n",
       "      <td>Extracelullar</td>\n",
       "      <td>voltage_domain</td>\n",
       "      <td>neutral</td>\n",
       "      <td>neutral</td>\n",
       "      <td>polar</td>\n",
       "      <td>...</td>\n",
       "      <td>3.8</td>\n",
       "      <td>-26.08</td>\n",
       "      <td>-4.6</td>\n",
       "      <td>-45.5</td>\n",
       "      <td>30.4</td>\n",
       "      <td>neu_to_neu</td>\n",
       "      <td>p_to_np</td>\n",
       "      <td>na_to_na</td>\n",
       "      <td>0.74631</td>\n",
       "      <td>helix</td>\n",
       "    </tr>\n",
       "    <tr>\n",
       "      <th>7</th>\n",
       "      <td>pathogenic_variant</td>\n",
       "      <td>E130K</td>\n",
       "      <td>E</td>\n",
       "      <td>K</td>\n",
       "      <td>130</td>\n",
       "      <td>S2</td>\n",
       "      <td>voltage_domain</td>\n",
       "      <td>negative_acidic</td>\n",
       "      <td>positive_basic</td>\n",
       "      <td>polar</td>\n",
       "      <td>...</td>\n",
       "      <td>-3.9</td>\n",
       "      <td>0.94</td>\n",
       "      <td>0.4</td>\n",
       "      <td>-20.8</td>\n",
       "      <td>-5.7</td>\n",
       "      <td>neg_to_pos</td>\n",
       "      <td>p_to_p</td>\n",
       "      <td>na_to_na</td>\n",
       "      <td>0.80182</td>\n",
       "      <td>coil</td>\n",
       "    </tr>\n",
       "    <tr>\n",
       "      <th>8</th>\n",
       "      <td>pathogenic_variant</td>\n",
       "      <td>R144Q</td>\n",
       "      <td>R</td>\n",
       "      <td>Q</td>\n",
       "      <td>144</td>\n",
       "      <td>Cytoplasmic</td>\n",
       "      <td>voltage_domain</td>\n",
       "      <td>positive_basic</td>\n",
       "      <td>neutral</td>\n",
       "      <td>polar</td>\n",
       "      <td>...</td>\n",
       "      <td>-3.5</td>\n",
       "      <td>28.05</td>\n",
       "      <td>-1.0</td>\n",
       "      <td>19.5</td>\n",
       "      <td>6.5</td>\n",
       "      <td>pos_to_neu</td>\n",
       "      <td>p_to_p</td>\n",
       "      <td>na_to_na</td>\n",
       "      <td>0.84035</td>\n",
       "      <td>membrane_helix</td>\n",
       "    </tr>\n",
       "    <tr>\n",
       "      <th>9</th>\n",
       "      <td>pathogenic_variant</td>\n",
       "      <td>Y154D</td>\n",
       "      <td>Y</td>\n",
       "      <td>D</td>\n",
       "      <td>154</td>\n",
       "      <td>Cytoplasmic</td>\n",
       "      <td>voltage_domain</td>\n",
       "      <td>neutral</td>\n",
       "      <td>negative_acidic</td>\n",
       "      <td>non_polar</td>\n",
       "      <td>...</td>\n",
       "      <td>-3.5</td>\n",
       "      <td>48.09</td>\n",
       "      <td>2.2</td>\n",
       "      <td>47.2</td>\n",
       "      <td>-14.9</td>\n",
       "      <td>neu_to_neg</td>\n",
       "      <td>np_to_p</td>\n",
       "      <td>a_to_na</td>\n",
       "      <td>0.88678</td>\n",
       "      <td>membrane_helix</td>\n",
       "    </tr>\n",
       "  </tbody>\n",
       "</table>\n",
       "<p>10 rows × 36 columns</p>\n",
       "</div>"
      ],
      "text/plain": [
       "       PrimaryDisease Mutationppt initial_aa final_aa  position_aa  \\\n",
       "0  pathogenic_variant         M1T          M        T            1   \n",
       "1  pathogenic_variant         M1V          M        V            1   \n",
       "2  pathogenic_variant       L107F          L        F          107   \n",
       "3  pathogenic_variant       T114A          T        A          114   \n",
       "4  pathogenic_variant       T114I          T        I          114   \n",
       "5  pathogenic_variant       E119G          E        G          119   \n",
       "6  pathogenic_variant       S122L          S        L          122   \n",
       "7  pathogenic_variant       E130K          E        K          130   \n",
       "8  pathogenic_variant       R144Q          R        Q          144   \n",
       "9  pathogenic_variant       Y154D          Y        D          154   \n",
       "\n",
       "  topological_domain functional_domain  char_initial_aa    char_final_aa  \\\n",
       "0        Cytoplasmic  unknown_function          neutral          neutral   \n",
       "1        Cytoplasmic  unknown_function          neutral          neutral   \n",
       "2                 S1    voltage_domain          neutral          neutral   \n",
       "3      Extracelullar    voltage_domain          neutral          neutral   \n",
       "4      Extracelullar    voltage_domain          neutral          neutral   \n",
       "5      Extracelullar    voltage_domain  negative_acidic          neutral   \n",
       "6      Extracelullar    voltage_domain          neutral          neutral   \n",
       "7                 S2    voltage_domain  negative_acidic   positive_basic   \n",
       "8        Cytoplasmic    voltage_domain   positive_basic          neutral   \n",
       "9        Cytoplasmic    voltage_domain          neutral  negative_acidic   \n",
       "\n",
       "  pol_initial_aa  ... hf_final_aa d_size d_hf  d_vol  d_msa    d_charge  \\\n",
       "0      non_polar  ...        -0.7  30.09  2.6   28.8  -31.4  neu_to_neu   \n",
       "1      non_polar  ...         4.2  32.06 -2.3   15.1  -15.7  neu_to_neu   \n",
       "2      non_polar  ...         2.8 -34.02  1.0  -13.6    4.6  neu_to_neu   \n",
       "3          polar  ...         1.8  30.03 -2.5   18.1   -2.1  neu_to_neu   \n",
       "4          polar  ...         4.5 -12.05 -5.2  -29.6   27.8  neu_to_neu   \n",
       "5          polar  ...        -0.4  72.06 -3.1   47.2   -5.4  neg_to_neu   \n",
       "6          polar  ...         3.8 -26.08 -4.6  -45.5   30.4  neu_to_neu   \n",
       "7          polar  ...        -3.9   0.94  0.4  -20.8   -5.7  neg_to_pos   \n",
       "8          polar  ...        -3.5  28.05 -1.0   19.5    6.5  pos_to_neu   \n",
       "9      non_polar  ...        -3.5  48.09  2.2   47.2  -14.9  neu_to_neg   \n",
       "\n",
       "      d_pol     d_aro  r_conserv         sec_str  \n",
       "0   np_to_p  na_to_na    0.61970            coil  \n",
       "1  np_to_np  na_to_na    0.61970            coil  \n",
       "2  np_to_np   na_to_a    0.78350            coil  \n",
       "3   p_to_np  na_to_na    0.80304            coil  \n",
       "4   p_to_np  na_to_na    0.80304            coil  \n",
       "5    p_to_p  na_to_na    0.76221           helix  \n",
       "6   p_to_np  na_to_na    0.74631           helix  \n",
       "7    p_to_p  na_to_na    0.80182            coil  \n",
       "8    p_to_p  na_to_na    0.84035  membrane_helix  \n",
       "9   np_to_p   a_to_na    0.88678  membrane_helix  \n",
       "\n",
       "[10 rows x 36 columns]"
      ]
     },
     "execution_count": 48,
     "metadata": {},
     "output_type": "execute_result"
    }
   ],
   "source": [
    "# Show first records\n",
    "df.head(10)"
   ]
  },
  {
   "cell_type": "markdown",
   "id": "60c401c5",
   "metadata": {},
   "source": [
    "<br>\n",
    "<br>\n",
    "<br> \n",
    "\n",
    "### 2. Eliminación de duplicados, unificación del formato y corrección de errores <a id=\"1.2\"></a>"
   ]
  },
  {
   "cell_type": "markdown",
   "id": "6fb9803a",
   "metadata": {},
   "source": [
    "En este apartado cabe destacar que no es necesario unificar el formato y corregir errores porque el fichero del que se parte ha sido revisado anteriormente. Sin embargo, sí se van a comprobar posibles duplicados:"
   ]
  },
  {
   "cell_type": "code",
   "execution_count": 49,
   "id": "13b9a562",
   "metadata": {},
   "outputs": [
    {
     "data": {
      "text/html": [
       "<div>\n",
       "<style scoped>\n",
       "    .dataframe tbody tr th:only-of-type {\n",
       "        vertical-align: middle;\n",
       "    }\n",
       "\n",
       "    .dataframe tbody tr th {\n",
       "        vertical-align: top;\n",
       "    }\n",
       "\n",
       "    .dataframe thead th {\n",
       "        text-align: right;\n",
       "    }\n",
       "</style>\n",
       "<table border=\"1\" class=\"dataframe\">\n",
       "  <thead>\n",
       "    <tr style=\"text-align: right;\">\n",
       "      <th></th>\n",
       "      <th>PrimaryDisease</th>\n",
       "      <th>Mutationppt</th>\n",
       "      <th>initial_aa</th>\n",
       "      <th>final_aa</th>\n",
       "      <th>position_aa</th>\n",
       "      <th>topological_domain</th>\n",
       "      <th>functional_domain</th>\n",
       "      <th>char_initial_aa</th>\n",
       "      <th>char_final_aa</th>\n",
       "      <th>pol_initial_aa</th>\n",
       "      <th>...</th>\n",
       "      <th>hf_final_aa</th>\n",
       "      <th>d_size</th>\n",
       "      <th>d_hf</th>\n",
       "      <th>d_vol</th>\n",
       "      <th>d_msa</th>\n",
       "      <th>d_charge</th>\n",
       "      <th>d_pol</th>\n",
       "      <th>d_aro</th>\n",
       "      <th>r_conserv</th>\n",
       "      <th>sec_str</th>\n",
       "    </tr>\n",
       "  </thead>\n",
       "  <tbody>\n",
       "  </tbody>\n",
       "</table>\n",
       "<p>0 rows × 36 columns</p>\n",
       "</div>"
      ],
      "text/plain": [
       "Empty DataFrame\n",
       "Columns: [PrimaryDisease, Mutationppt, initial_aa, final_aa, position_aa, topological_domain, functional_domain, char_initial_aa, char_final_aa, pol_initial_aa, pol_final_aa, aro_initial_aa, aro_final_aa, mw_initial_aa, mw_final_aa, v_e_initial_aa, v_e_final_aa, pol_e_initial_aa, pol_e_final_aa, ip_e_initial_aa, ip_e_final_aa, hf_e_initial_aa, hf_e_final_aa, msa_e_initial_aa, msa_e_final_aa, hf_initial_aa, hf_final_aa, d_size, d_hf, d_vol, d_msa, d_charge, d_pol, d_aro, r_conserv, sec_str]\n",
       "Index: []\n",
       "\n",
       "[0 rows x 36 columns]"
      ]
     },
     "execution_count": 49,
     "metadata": {},
     "output_type": "execute_result"
    }
   ],
   "source": [
    "# Check for duplicates \n",
    "df[df[\"Mutationppt\"].duplicated()]\n",
    "\n",
    "# Remove duplicates if needed\n",
    "#ch_df = ch_df.drop_duplicates()"
   ]
  },
  {
   "cell_type": "markdown",
   "id": "6af257ca",
   "metadata": {},
   "source": [
    "La base de datos NO presenta valores duplicados."
   ]
  },
  {
   "cell_type": "markdown",
   "id": "5dc2f8fc",
   "metadata": {},
   "source": [
    "<br>\n",
    "<br>\n",
    "<br> \n",
    "\n",
    "### 3. Preprocesado final para los modelos de ML <a id=\"1.3\"></a>\n",
    "\n",
    "Por último, se realiza un preprocesado final para mantener los descriptores que se han considerado relevantes para el diseño de algoritmos de *Machine Learning*. Ej.: interesa solo quedarse con la columna de cambio de carga `df[\"d_charge\"]`, por lo que se deberían de eliminar las columnas de las que se obtuvo: `df[\"mw_initial_aa\"]` y `df[\"mw_final_aa\"]`.\n",
    "\n",
    "Así, se adapta la tabla eliminando una serie de columnas y cambiando el nombre de las restantes para una mejor interpretación. Se crea una función que cumpla este objetivo:"
   ]
  },
  {
   "cell_type": "code",
   "execution_count": 50,
   "id": "22e87b2f",
   "metadata": {},
   "outputs": [],
   "source": [
    "def preprocessing_df(df):\n",
    "    \"\"\"\n",
    "    Description: \n",
    "        Takes as input the database with the designed columns. \n",
    "        It eliminates those columns that are useless, renames the\n",
    "        remaining ones and performs a binary coding of the label.\n",
    "    \n",
    "    Input: \n",
    "        Original dataframe\n",
    "        \n",
    "    Return:\n",
    "        Modified dataframe\n",
    "    \"\"\"\n",
    "    \n",
    "    # Change column names\n",
    "    df.columns  = ['type_of_variant', 'mutation', 'initial_aa', 'final_aa', 'position_aa', 'topological_domain',\n",
    "       'functional_domain', 'char_initial_aa', 'char_final_aa', 'pol_initial_aa', 'pol_final_aa',\n",
    "       'aro_initial_aa', 'aro_final_aa', 'mw_initial_aa', 'mw_final_aa',\n",
    "       'v_e_initial_aa', 'v_e_final_aa', 'pol_e_initial_aa', 'pol_e_final_aa',\n",
    "       'ip_e_initial_aa', 'ip_e_final_aa', 'hf_e_initial_aa', 'hf_e_final_aa',\n",
    "       'msa_e_initial_aa', 'msa_e_final_aa', 'hf_initial_aa', 'hf_final_aa',\n",
    "       'd_size', 'd_hf', 'd_vol', 'd_msa','d_charge', 'd_pol', 'd_aro', 'residue_conserv', 'secondary_str']\n",
    "    \n",
    "    # Create binary label\n",
    "    l =  []\n",
    "\n",
    "    for i in df[\"type_of_variant\"]:\n",
    "        if i == \"pathogenic_variant\":\n",
    "            l.append(int(1))\n",
    "\n",
    "        if i == \"benign_variant\":\n",
    "            l.append(int(0))\n",
    "        \n",
    "    #df = df.drop([\"type_of_variant\"], axis = 1) # Delete original column\n",
    "    df[\"label\"] = l\n",
    "    \n",
    "    # Delete extra columns \n",
    "    df = df.drop(['position_aa','char_initial_aa', 'char_final_aa', 'pol_initial_aa', 'pol_final_aa',\n",
    "       'aro_initial_aa', 'aro_final_aa', 'mw_initial_aa', 'mw_final_aa',\n",
    "       'v_e_initial_aa', 'v_e_final_aa', 'pol_e_initial_aa', 'pol_e_final_aa',\n",
    "       'ip_e_initial_aa', 'ip_e_final_aa', 'hf_e_initial_aa', 'hf_e_final_aa',\n",
    "       'msa_e_initial_aa', 'msa_e_final_aa', 'hf_initial_aa', 'hf_final_aa'], axis = 1)\n",
    "    \n",
    "    return df"
   ]
  },
  {
   "cell_type": "code",
   "execution_count": 51,
   "id": "3b85d0b0",
   "metadata": {},
   "outputs": [],
   "source": [
    "wdf = preprocessing_df(df)"
   ]
  },
  {
   "cell_type": "markdown",
   "id": "871f6768",
   "metadata": {},
   "source": [
    "Para convertir el fichero en un archivo CSV, es necesario ejecutar:"
   ]
  },
  {
   "cell_type": "code",
   "execution_count": 52,
   "id": "754a4ebb",
   "metadata": {},
   "outputs": [],
   "source": [
    "## - To CSV\n",
    "#wdf.to_csv('FINAL_DDBB_v3.csv', sep=',', index=False)"
   ]
  }
 ],
 "metadata": {
  "kernelspec": {
   "display_name": "Python 3",
   "language": "python",
   "name": "python3"
  },
  "language_info": {
   "codemirror_mode": {
    "name": "ipython",
    "version": 3
   },
   "file_extension": ".py",
   "mimetype": "text/x-python",
   "name": "python",
   "nbconvert_exporter": "python",
   "pygments_lexer": "ipython3",
   "version": "3.8.8"
  }
 },
 "nbformat": 4,
 "nbformat_minor": 5
}
