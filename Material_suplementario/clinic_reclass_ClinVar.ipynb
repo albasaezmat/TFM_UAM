{
 "cells": [
  {
   "cell_type": "markdown",
   "id": "83ff51b2",
   "metadata": {},
   "source": [
    "# Estudio de las reclasificaciones de variantes de KCNQ2 en ClinVar\n",
    "\n",
    "Las reclasificaciones de las variantes presentes en [ClinVar](https://www.ncbi.nlm.nih.gov/clinvar/) se\n",
    "analizaron llevando a cabo el procedimiento facilitado por [Andrew Sharo](https://www.sciencedirect.com/science/article/pii/S0002929721000872?via%3Dihub).\n",
    "\n",
    "Para este fin, es necesario acceder y conocer los archivos [FTP de ClinVar](https://www.ncbi.nlm.nih.gov/clinvar/docs/ftp_primer/). Dentro de estos, se encuentran los **archivos\n",
    "VCF** que contienen una instantánea de todas las variantes existentes en ClinVar y su clasificación en una\n",
    "fecha específica. Se emplea el genoma humano GRCh38 y los años 2019-2021 para el estudio"
   ]
  },
  {
   "cell_type": "markdown",
   "id": "c0f3aefc",
   "metadata": {},
   "source": [
    "___ \n",
    "\n",
    "**Contenido**\n",
    "* [Apartado 1. Descarga y preprocesado de los archivos VCF](#ap1)\n",
    "* [Apartado 2. Comparación de las variantes de KCNQ2 entre 2019 y 2021](#ap2)\n",
    "* [Apartado 3. Visualización de las reclasificaciones en ClinVar](#ap3)\n",
    "\n",
    "\n",
    "___"
   ]
  },
  {
   "cell_type": "code",
   "execution_count": 1,
   "id": "f28345fb",
   "metadata": {},
   "outputs": [],
   "source": [
    "import io\n",
    "import os\n",
    "import pandas as pd\n",
    "\n",
    "# FloWeaver for visualization\n",
    "from ipysankeywidget import SankeyWidget\n",
    "from floweaver import *"
   ]
  },
  {
   "cell_type": "markdown",
   "id": "8ec90214",
   "metadata": {},
   "source": [
    "<br>\n",
    "<br>\n",
    "\n",
    "### Apartado 1. Descarga y preprocesado de los archivos VCF <a id=\"ap1\"></a>\n",
    "\n",
    "#### <u>Carga de los datos</u>\n",
    "\n",
    "Los archivos VCF correspondientes a 2019 y 2021 se descargan, respectivamente, de:\n",
    "\n",
    "* [Año 2019](https://ftp.ncbi.nlm.nih.gov/pub/clinvar/vcf_GRCh38/archive_2.0/2019/clinvar_20191219.vcf.gz).\n",
    "* [Año 2021](https://ftp.ncbi.nlm.nih.gov/pub/clinvar/vcf_GRCh38/archive_2.0/2021/clinvar_20211204.vcf.gz)."
   ]
  },
  {
   "cell_type": "markdown",
   "id": "17fdf6a5",
   "metadata": {},
   "source": [
    "Y se analizan de la siguiente manera siguiendo el procedimiento explicado en [Alistair Miles](http://alimanfoo.github.io/2017/06/14/read-vcf.html)."
   ]
  },
  {
   "cell_type": "code",
   "execution_count": 2,
   "id": "83213034",
   "metadata": {},
   "outputs": [],
   "source": [
    "# Create a function to read a VCF file\n",
    "def read_vcf(path):\n",
    "    with open(path, 'r') as f:\n",
    "        lines = [l for l in f if not l.startswith('##')]\n",
    "    return pd.read_csv(\n",
    "        io.StringIO(''.join(lines)),\n",
    "        dtype={'#CHROM': str, 'POS': int, 'ID': str, 'REF': str, 'ALT': str,\n",
    "               'QUAL': str, 'FILTER': str, 'INFO': str},\n",
    "        sep='\\t'\n",
    "    ).rename(columns={'#CHROM': 'CHROM'})"
   ]
  },
  {
   "cell_type": "code",
   "execution_count": 3,
   "id": "fb4d9394",
   "metadata": {},
   "outputs": [],
   "source": [
    "# Load VCF files for 2019 and 2021\n",
    "v19 = read_vcf(\"./Clinvar_2019.vcf\")\n",
    "v21 = read_vcf(\"./Clinvar_2021.vcf\")"
   ]
  },
  {
   "cell_type": "code",
   "execution_count": 4,
   "id": "dd86c836",
   "metadata": {},
   "outputs": [
    {
     "data": {
      "text/html": [
       "<div>\n",
       "<style scoped>\n",
       "    .dataframe tbody tr th:only-of-type {\n",
       "        vertical-align: middle;\n",
       "    }\n",
       "\n",
       "    .dataframe tbody tr th {\n",
       "        vertical-align: top;\n",
       "    }\n",
       "\n",
       "    .dataframe thead th {\n",
       "        text-align: right;\n",
       "    }\n",
       "</style>\n",
       "<table border=\"1\" class=\"dataframe\">\n",
       "  <thead>\n",
       "    <tr style=\"text-align: right;\">\n",
       "      <th></th>\n",
       "      <th>CHROM</th>\n",
       "      <th>POS</th>\n",
       "      <th>ID</th>\n",
       "      <th>REF</th>\n",
       "      <th>ALT</th>\n",
       "      <th>QUAL</th>\n",
       "      <th>FILTER</th>\n",
       "      <th>INFO</th>\n",
       "    </tr>\n",
       "  </thead>\n",
       "  <tbody>\n",
       "    <tr>\n",
       "      <th>0</th>\n",
       "      <td>1</td>\n",
       "      <td>925952</td>\n",
       "      <td>1019397</td>\n",
       "      <td>G</td>\n",
       "      <td>A</td>\n",
       "      <td>.</td>\n",
       "      <td>.</td>\n",
       "      <td>ALLELEID=1003021;CLNDISDB=MedGen:CN517202;CLND...</td>\n",
       "    </tr>\n",
       "    <tr>\n",
       "      <th>1</th>\n",
       "      <td>1</td>\n",
       "      <td>930139</td>\n",
       "      <td>1125147</td>\n",
       "      <td>C</td>\n",
       "      <td>T</td>\n",
       "      <td>.</td>\n",
       "      <td>.</td>\n",
       "      <td>ALLELEID=1110865;CLNDISDB=MedGen:CN517202;CLND...</td>\n",
       "    </tr>\n",
       "    <tr>\n",
       "      <th>2</th>\n",
       "      <td>1</td>\n",
       "      <td>930165</td>\n",
       "      <td>1164676</td>\n",
       "      <td>G</td>\n",
       "      <td>A</td>\n",
       "      <td>.</td>\n",
       "      <td>.</td>\n",
       "      <td>ALLELEID=1153701;CLNDISDB=MedGen:CN517202;CLND...</td>\n",
       "    </tr>\n",
       "    <tr>\n",
       "      <th>3</th>\n",
       "      <td>1</td>\n",
       "      <td>930187</td>\n",
       "      <td>1144630</td>\n",
       "      <td>C</td>\n",
       "      <td>T</td>\n",
       "      <td>.</td>\n",
       "      <td>.</td>\n",
       "      <td>ALLELEID=1131738;CLNDISDB=MedGen:CN517202;CLND...</td>\n",
       "    </tr>\n",
       "    <tr>\n",
       "      <th>4</th>\n",
       "      <td>1</td>\n",
       "      <td>930188</td>\n",
       "      <td>846933</td>\n",
       "      <td>G</td>\n",
       "      <td>A</td>\n",
       "      <td>.</td>\n",
       "      <td>.</td>\n",
       "      <td>AF_EXAC=0.00000;ALLELEID=824438;CLNDISDB=MedGe...</td>\n",
       "    </tr>\n",
       "  </tbody>\n",
       "</table>\n",
       "</div>"
      ],
      "text/plain": [
       "  CHROM     POS       ID REF ALT QUAL FILTER  \\\n",
       "0     1  925952  1019397   G   A    .      .   \n",
       "1     1  930139  1125147   C   T    .      .   \n",
       "2     1  930165  1164676   G   A    .      .   \n",
       "3     1  930187  1144630   C   T    .      .   \n",
       "4     1  930188   846933   G   A    .      .   \n",
       "\n",
       "                                                INFO  \n",
       "0  ALLELEID=1003021;CLNDISDB=MedGen:CN517202;CLND...  \n",
       "1  ALLELEID=1110865;CLNDISDB=MedGen:CN517202;CLND...  \n",
       "2  ALLELEID=1153701;CLNDISDB=MedGen:CN517202;CLND...  \n",
       "3  ALLELEID=1131738;CLNDISDB=MedGen:CN517202;CLND...  \n",
       "4  AF_EXAC=0.00000;ALLELEID=824438;CLNDISDB=MedGe...  "
      ]
     },
     "execution_count": 4,
     "metadata": {},
     "output_type": "execute_result"
    }
   ],
   "source": [
    "v21.head()"
   ]
  },
  {
   "cell_type": "code",
   "execution_count": 5,
   "id": "c1eea895",
   "metadata": {},
   "outputs": [
    {
     "data": {
      "text/plain": [
       "'ALLELEID=1003021;CLNDISDB=MedGen:CN517202;CLNDN=not_provided;CLNHGVS=NC_000001.11:g.925952G>A;CLNREVSTAT=criteria_provided,_single_submitter;CLNSIG=Uncertain_significance;CLNVC=single_nucleotide_variant;CLNVCSO=SO:0001483;GENEINFO=SAMD11:148398;MC=SO:0001583|missense_variant;ORIGIN=1;RS=1640863258'"
      ]
     },
     "execution_count": 5,
     "metadata": {},
     "output_type": "execute_result"
    }
   ],
   "source": [
    "v21[\"INFO\"][0]"
   ]
  },
  {
   "cell_type": "markdown",
   "id": "063d9819",
   "metadata": {},
   "source": [
    "<br>\n",
    "<br>\n",
    "\n",
    "#### <u> Filtrado de las variantes en KCNQ2</u>\n",
    "\n",
    "De todas las variantes existentes en un fichero VCF, se filtran aquellas correspondientes al gen KCNQ2. Con ese fin, se filtra la columna de información `[\"INFO\"]` a partir del campo `[\"GENEID\"]`. En el caso concreto del gen KCNQ2, su `[\"GENEID\"] = \"KCNQ2:3785\"`."
   ]
  },
  {
   "cell_type": "code",
   "execution_count": 6,
   "id": "e1927c5d",
   "metadata": {},
   "outputs": [],
   "source": [
    "# Create a list to save variants INFO for KCNQ2\n",
    "l21 = []\n",
    "\n",
    "for i in v21[\"INFO\"]:\n",
    "    x = i.split(\";\")\n",
    "    for j in x:\n",
    "        if j[0:19] == \"GENEINFO=KCNQ2:3785\": # Filter variants\n",
    "            l21.append(i) # Save [\"INFO\"] of matches to filter rows\n",
    "\n",
    "# Create a new list to append specific info\n",
    "l21_2 = []\n",
    "for i in l21:\n",
    "    l21_2.append(v21.loc[v21[\"INFO\"] == i].values[:])\n",
    "    \n",
    "\n",
    "# Repeat for 2019\n",
    "l19 = []\n",
    "\n",
    "for i in v19[\"INFO\"]:\n",
    "    x = i.split(\";\")\n",
    "    for j in x:\n",
    "        if j[0:19] == \"GENEINFO=KCNQ2:3785\":\n",
    "            l19.append(i)\n",
    "            \n",
    "l19_2 = []\n",
    "for i in l19:\n",
    "    l19_2.append(v19.loc[v19[\"INFO\"] == i].values[:])"
   ]
  },
  {
   "cell_type": "code",
   "execution_count": 7,
   "id": "0f844fcd",
   "metadata": {},
   "outputs": [
    {
     "name": "stdout",
     "output_type": "stream",
     "text": [
      "Total KCNQ2 variants in 2021: 1247\n",
      "Total KCNQ2 variants in 2019: 792\n"
     ]
    }
   ],
   "source": [
    "print(\"Total KCNQ2 variants in 2021:\", len(l21))\n",
    "print(\"Total KCNQ2 variants in 2019:\", len(l19))"
   ]
  },
  {
   "cell_type": "code",
   "execution_count": 8,
   "id": "8bc4994a",
   "metadata": {},
   "outputs": [
    {
     "name": "stdout",
     "output_type": "stream",
     "text": [
      "AF_TGP=0.04752;ALLELEID=351405;CLNDISDB=MedGen:CN517202;CLNDN=not_provided;CLNHGVS=NC_000020.11:g.63406349G>A;CLNREVSTAT=criteria_provided,_single_submitter;CLNSIG=Benign;CLNVC=single_nucleotide_variant;CLNVCSO=SO:0001483;GENEINFO=KCNQ2:3785;MC=SO:0001624|3_prime_UTR_variant;ORIGIN=1;RS=34690549\n"
     ]
    }
   ],
   "source": [
    "print(l21[0])"
   ]
  },
  {
   "cell_type": "code",
   "execution_count": 9,
   "id": "e903334f",
   "metadata": {},
   "outputs": [
    {
     "name": "stdout",
     "output_type": "stream",
     "text": [
      "A\n",
      "A\n"
     ]
    }
   ],
   "source": [
    "print(l21[0][0][0])\n",
    "print(l21[0][0])"
   ]
  },
  {
   "cell_type": "markdown",
   "id": "327fbcc7",
   "metadata": {},
   "source": [
    "A continuación, se crean dos DataFrames (`v21_clean` y `v19_clean`) con la información de interés:"
   ]
  },
  {
   "cell_type": "code",
   "execution_count": 10,
   "id": "57905912",
   "metadata": {},
   "outputs": [],
   "source": [
    "### 2021\n",
    "# Create lists for fields of interest\n",
    "CHROM = []\n",
    "POS = []\n",
    "ID = []\n",
    "REF = []\n",
    "ALT = []\n",
    "QUAL = []\n",
    "FILTER = []\n",
    "INFO = []\n",
    "\n",
    "for i in range(len(l21_2)):\n",
    "    CHROM.append(l21_2[i][0][0])\n",
    "    POS.append(l21_2[i][0][1])\n",
    "    ID.append(l21_2[i][0][2])\n",
    "    REF.append(l21_2[i][0][3])\n",
    "    ALT.append(l21_2[i][0][4])\n",
    "    QUAL.append(l21_2[i][0][5])\n",
    "    FILTER.append(l21_2[i][0][6])\n",
    "    INFO.append(l21_2[i][0][7])\n",
    "    \n",
    "\n",
    "# Build a Dataframe for 2021 KCNQ2 variants    \n",
    "v21_clean = pd.DataFrame(CHROM, columns = [\"CHROM\"])\n",
    "v21_clean[\"POS\"] = POS\n",
    "v21_clean[\"ID\"] = ID\n",
    "v21_clean[\"REF\"] = REF\n",
    "v21_clean[\"ALT\"] = ALT\n",
    "v21_clean[\"QUAL\"] = QUAL\n",
    "v21_clean[\"FILTER\"] = FILTER\n",
    "v21_clean[\"INFO\"] = INFO"
   ]
  },
  {
   "cell_type": "code",
   "execution_count": 11,
   "id": "a58e41d9",
   "metadata": {},
   "outputs": [],
   "source": [
    "### 2019\n",
    "# Create lists for fields of interest\n",
    "CHROM2 = []\n",
    "POS2 = []\n",
    "ID2 = []\n",
    "REF2 = []\n",
    "ALT2 = []\n",
    "QUAL2 = []\n",
    "FILTER2 = []\n",
    "INFO2 = []\n",
    "\n",
    "for i in range(len(l19_2)):\n",
    "    CHROM2.append(l19_2[i][0][0])\n",
    "    POS2.append(l19_2[i][0][1])\n",
    "    ID2.append(l19_2[i][0][2])\n",
    "    REF2.append(l19_2[i][0][3])\n",
    "    ALT2.append(l19_2[i][0][4])\n",
    "    QUAL2.append(l19_2[i][0][5])\n",
    "    FILTER2.append(l19_2[i][0][6])\n",
    "    INFO2.append(l19_2[i][0][7])\n",
    "\n",
    "# Build a Dataframe for 2019 KCNQ2 variants    \n",
    "v19_clean = pd.DataFrame(CHROM2, columns = [\"CHROM\"])\n",
    "v19_clean[\"POS\"] = POS2\n",
    "v19_clean[\"ID\"] = ID2\n",
    "v19_clean[\"REF\"] = REF2\n",
    "v19_clean[\"ALT\"] = ALT2\n",
    "v19_clean[\"QUAL\"] = QUAL2\n",
    "v19_clean[\"FILTER\"] = FILTER2\n",
    "v19_clean[\"INFO\"] = INFO2"
   ]
  },
  {
   "cell_type": "markdown",
   "id": "1d18033f",
   "metadata": {},
   "source": [
    "A continuación, se muestran los primeros 5 registros del DataFrame `v21_clean` creado:"
   ]
  },
  {
   "cell_type": "code",
   "execution_count": 12,
   "id": "616f4671",
   "metadata": {
    "scrolled": true
   },
   "outputs": [
    {
     "data": {
      "text/html": [
       "<div>\n",
       "<style scoped>\n",
       "    .dataframe tbody tr th:only-of-type {\n",
       "        vertical-align: middle;\n",
       "    }\n",
       "\n",
       "    .dataframe tbody tr th {\n",
       "        vertical-align: top;\n",
       "    }\n",
       "\n",
       "    .dataframe thead th {\n",
       "        text-align: right;\n",
       "    }\n",
       "</style>\n",
       "<table border=\"1\" class=\"dataframe\">\n",
       "  <thead>\n",
       "    <tr style=\"text-align: right;\">\n",
       "      <th></th>\n",
       "      <th>CHROM</th>\n",
       "      <th>POS</th>\n",
       "      <th>ID</th>\n",
       "      <th>REF</th>\n",
       "      <th>ALT</th>\n",
       "      <th>QUAL</th>\n",
       "      <th>FILTER</th>\n",
       "      <th>INFO</th>\n",
       "    </tr>\n",
       "  </thead>\n",
       "  <tbody>\n",
       "    <tr>\n",
       "      <th>0</th>\n",
       "      <td>20</td>\n",
       "      <td>63406349</td>\n",
       "      <td>339325</td>\n",
       "      <td>G</td>\n",
       "      <td>A</td>\n",
       "      <td>.</td>\n",
       "      <td>.</td>\n",
       "      <td>AF_TGP=0.04752;ALLELEID=351405;CLNDISDB=MedGen...</td>\n",
       "    </tr>\n",
       "    <tr>\n",
       "      <th>1</th>\n",
       "      <td>20</td>\n",
       "      <td>63406396</td>\n",
       "      <td>1259970</td>\n",
       "      <td>G</td>\n",
       "      <td>A</td>\n",
       "      <td>.</td>\n",
       "      <td>.</td>\n",
       "      <td>AF_TGP=0.10363;ALLELEID=336279;CLNDISDB=MedGen...</td>\n",
       "    </tr>\n",
       "    <tr>\n",
       "      <th>2</th>\n",
       "      <td>20</td>\n",
       "      <td>63406615</td>\n",
       "      <td>1260705</td>\n",
       "      <td>G</td>\n",
       "      <td>A</td>\n",
       "      <td>.</td>\n",
       "      <td>.</td>\n",
       "      <td>ALLELEID=1253193;CLNDISDB=MedGen:CN517202;CLND...</td>\n",
       "    </tr>\n",
       "    <tr>\n",
       "      <th>3</th>\n",
       "      <td>20</td>\n",
       "      <td>63406621</td>\n",
       "      <td>1252361</td>\n",
       "      <td>G</td>\n",
       "      <td>T</td>\n",
       "      <td>.</td>\n",
       "      <td>.</td>\n",
       "      <td>ALLELEID=1242307;CLNDISDB=MedGen:CN517202;CLND...</td>\n",
       "    </tr>\n",
       "    <tr>\n",
       "      <th>4</th>\n",
       "      <td>20</td>\n",
       "      <td>63406638</td>\n",
       "      <td>1214389</td>\n",
       "      <td>G</td>\n",
       "      <td>A</td>\n",
       "      <td>.</td>\n",
       "      <td>.</td>\n",
       "      <td>ALLELEID=1204374;CLNDISDB=MedGen:CN517202;CLND...</td>\n",
       "    </tr>\n",
       "  </tbody>\n",
       "</table>\n",
       "</div>"
      ],
      "text/plain": [
       "  CHROM       POS       ID REF ALT QUAL FILTER  \\\n",
       "0    20  63406349   339325   G   A    .      .   \n",
       "1    20  63406396  1259970   G   A    .      .   \n",
       "2    20  63406615  1260705   G   A    .      .   \n",
       "3    20  63406621  1252361   G   T    .      .   \n",
       "4    20  63406638  1214389   G   A    .      .   \n",
       "\n",
       "                                                INFO  \n",
       "0  AF_TGP=0.04752;ALLELEID=351405;CLNDISDB=MedGen...  \n",
       "1  AF_TGP=0.10363;ALLELEID=336279;CLNDISDB=MedGen...  \n",
       "2  ALLELEID=1253193;CLNDISDB=MedGen:CN517202;CLND...  \n",
       "3  ALLELEID=1242307;CLNDISDB=MedGen:CN517202;CLND...  \n",
       "4  ALLELEID=1204374;CLNDISDB=MedGen:CN517202;CLND...  "
      ]
     },
     "execution_count": 12,
     "metadata": {},
     "output_type": "execute_result"
    }
   ],
   "source": [
    "v21_clean.head()"
   ]
  },
  {
   "cell_type": "code",
   "execution_count": 13,
   "id": "1eded05c",
   "metadata": {},
   "outputs": [
    {
     "data": {
      "text/plain": [
       "'ALLELEID=1003021;CLNDISDB=MedGen:CN517202;CLNDN=not_provided;CLNHGVS=NC_000001.11:g.925952G>A;CLNREVSTAT=criteria_provided,_single_submitter;CLNSIG=Uncertain_significance;CLNVC=single_nucleotide_variant;CLNVCSO=SO:0001483;GENEINFO=SAMD11:148398;MC=SO:0001583|missense_variant;ORIGIN=1;RS=1640863258'"
      ]
     },
     "execution_count": 13,
     "metadata": {},
     "output_type": "execute_result"
    }
   ],
   "source": [
    "v21[\"INFO\"][0]"
   ]
  },
  {
   "cell_type": "markdown",
   "id": "22e3a2f4",
   "metadata": {},
   "source": [
    "Ejecutando las siguientes líneas de código se pueden guardar como ficheros CSV ambos DataFrames:"
   ]
  },
  {
   "cell_type": "code",
   "execution_count": 14,
   "id": "9a460f01",
   "metadata": {},
   "outputs": [],
   "source": [
    "## - To CSV\n",
    "#v21_clean.to_csv('KCNQ2_ClinVar_variants_2021.csv', sep=',', index=False)\n",
    "#v19_clean.to_csv('KCNQ2_ClinVar_variants_2019.csv', sep=',', index=False)"
   ]
  },
  {
   "cell_type": "markdown",
   "id": "b3ca4789",
   "metadata": {},
   "source": [
    "<br>\n",
    "<br>\n",
    "\n",
    "#### <u> Incorporación de los datos clínicos de las variantes filtradas </u>\n",
    "\n",
    "Para incorporar los datos clínicos se va a crear una nueva columna en los DataFrames correspondientes:"
   ]
  },
  {
   "cell_type": "code",
   "execution_count": 15,
   "id": "e7ef74f7",
   "metadata": {},
   "outputs": [],
   "source": [
    "## FOR 2021\n",
    "clin_21 = []\n",
    "\n",
    "for i in v21_clean[\"INFO\"]:\n",
    "    x = i.split(\";\")\n",
    "    for j in x:\n",
    "        if j[0:7] == \"CLNSIG=\":\n",
    "            j = j.split(\"=\")[1]\n",
    "            clin_21.append(j)\n",
    "            \n",
    "# Create that column in v21_clean\n",
    "v21_clean[\"CLNSIG_21\"] = clin_21\n",
    "\n",
    "\n",
    "\n",
    "## FOR 2019\n",
    "clin_19 = []\n",
    "\n",
    "for i in v19_clean[\"INFO\"]:\n",
    "    x = i.split(\";\")\n",
    "    for j in x:\n",
    "        if j[0:7] == \"CLNSIG=\":\n",
    "            j = j.split(\"=\")[1]\n",
    "            clin_19.append(j)\n",
    "            \n",
    "# Create that column in v19_clean\n",
    "v19_clean[\"CLNSIG_19\"] = clin_19"
   ]
  },
  {
   "cell_type": "markdown",
   "id": "53064c04",
   "metadata": {},
   "source": [
    "Además, se realiza un mappeo para corregir las claves únicas según el interés propio:"
   ]
  },
  {
   "cell_type": "code",
   "execution_count": 16,
   "id": "f6f6c842",
   "metadata": {},
   "outputs": [],
   "source": [
    "# Value to change : new value\n",
    "clin_map = {\n",
    "    'Benign/Likely_benign': 'Likely_benign',\n",
    "    'Conflicting_interpretations_of_pathogenicity': 'Conflictive_interpretation',\n",
    "    'Uncertain_significance': 'VUS',\n",
    "    'Pathogenic/Likely_pathogenic': 'Likely_pathogenic'\n",
    "}\n",
    "\n",
    "# Use mapping to replace values\n",
    "v21_clean[\"CLNSIG_21\"].replace(clin_map, inplace=True)\n",
    "v19_clean[\"CLNSIG_19\"].replace(clin_map, inplace=True)"
   ]
  },
  {
   "cell_type": "code",
   "execution_count": 17,
   "id": "c625f6ea",
   "metadata": {},
   "outputs": [
    {
     "data": {
      "text/html": [
       "<div>\n",
       "<style scoped>\n",
       "    .dataframe tbody tr th:only-of-type {\n",
       "        vertical-align: middle;\n",
       "    }\n",
       "\n",
       "    .dataframe tbody tr th {\n",
       "        vertical-align: top;\n",
       "    }\n",
       "\n",
       "    .dataframe thead th {\n",
       "        text-align: right;\n",
       "    }\n",
       "</style>\n",
       "<table border=\"1\" class=\"dataframe\">\n",
       "  <thead>\n",
       "    <tr style=\"text-align: right;\">\n",
       "      <th></th>\n",
       "      <th>CHROM</th>\n",
       "      <th>POS</th>\n",
       "      <th>ID</th>\n",
       "      <th>REF</th>\n",
       "      <th>ALT</th>\n",
       "      <th>QUAL</th>\n",
       "      <th>FILTER</th>\n",
       "      <th>INFO</th>\n",
       "      <th>CLNSIG_21</th>\n",
       "    </tr>\n",
       "  </thead>\n",
       "  <tbody>\n",
       "    <tr>\n",
       "      <th>0</th>\n",
       "      <td>20</td>\n",
       "      <td>63406349</td>\n",
       "      <td>339325</td>\n",
       "      <td>G</td>\n",
       "      <td>A</td>\n",
       "      <td>.</td>\n",
       "      <td>.</td>\n",
       "      <td>AF_TGP=0.04752;ALLELEID=351405;CLNDISDB=MedGen...</td>\n",
       "      <td>Benign</td>\n",
       "    </tr>\n",
       "    <tr>\n",
       "      <th>1</th>\n",
       "      <td>20</td>\n",
       "      <td>63406396</td>\n",
       "      <td>1259970</td>\n",
       "      <td>G</td>\n",
       "      <td>A</td>\n",
       "      <td>.</td>\n",
       "      <td>.</td>\n",
       "      <td>AF_TGP=0.10363;ALLELEID=336279;CLNDISDB=MedGen...</td>\n",
       "      <td>Benign</td>\n",
       "    </tr>\n",
       "    <tr>\n",
       "      <th>2</th>\n",
       "      <td>20</td>\n",
       "      <td>63406615</td>\n",
       "      <td>1260705</td>\n",
       "      <td>G</td>\n",
       "      <td>A</td>\n",
       "      <td>.</td>\n",
       "      <td>.</td>\n",
       "      <td>ALLELEID=1253193;CLNDISDB=MedGen:CN517202;CLND...</td>\n",
       "      <td>Benign</td>\n",
       "    </tr>\n",
       "    <tr>\n",
       "      <th>3</th>\n",
       "      <td>20</td>\n",
       "      <td>63406621</td>\n",
       "      <td>1252361</td>\n",
       "      <td>G</td>\n",
       "      <td>T</td>\n",
       "      <td>.</td>\n",
       "      <td>.</td>\n",
       "      <td>ALLELEID=1242307;CLNDISDB=MedGen:CN517202;CLND...</td>\n",
       "      <td>Benign</td>\n",
       "    </tr>\n",
       "    <tr>\n",
       "      <th>4</th>\n",
       "      <td>20</td>\n",
       "      <td>63406638</td>\n",
       "      <td>1214389</td>\n",
       "      <td>G</td>\n",
       "      <td>A</td>\n",
       "      <td>.</td>\n",
       "      <td>.</td>\n",
       "      <td>ALLELEID=1204374;CLNDISDB=MedGen:CN517202;CLND...</td>\n",
       "      <td>Likely_benign</td>\n",
       "    </tr>\n",
       "  </tbody>\n",
       "</table>\n",
       "</div>"
      ],
      "text/plain": [
       "  CHROM       POS       ID REF ALT QUAL FILTER  \\\n",
       "0    20  63406349   339325   G   A    .      .   \n",
       "1    20  63406396  1259970   G   A    .      .   \n",
       "2    20  63406615  1260705   G   A    .      .   \n",
       "3    20  63406621  1252361   G   T    .      .   \n",
       "4    20  63406638  1214389   G   A    .      .   \n",
       "\n",
       "                                                INFO      CLNSIG_21  \n",
       "0  AF_TGP=0.04752;ALLELEID=351405;CLNDISDB=MedGen...         Benign  \n",
       "1  AF_TGP=0.10363;ALLELEID=336279;CLNDISDB=MedGen...         Benign  \n",
       "2  ALLELEID=1253193;CLNDISDB=MedGen:CN517202;CLND...         Benign  \n",
       "3  ALLELEID=1242307;CLNDISDB=MedGen:CN517202;CLND...         Benign  \n",
       "4  ALLELEID=1204374;CLNDISDB=MedGen:CN517202;CLND...  Likely_benign  "
      ]
     },
     "execution_count": 17,
     "metadata": {},
     "output_type": "execute_result"
    }
   ],
   "source": [
    "v21_clean.head()"
   ]
  },
  {
   "cell_type": "markdown",
   "id": "76f35f59",
   "metadata": {},
   "source": [
    "<br>\n",
    "<br>\n",
    "\n",
    "### Apartado 2. Comparación de las variantes de KCNQ2 entre 2019 y 2021 <a id =\"ap2\"></a>\n",
    "\n",
    "En este paso se comparan las variantes de KCNQ2 presentes en ClinVar entre los años 2019 y 2021. Las columnas de los DataFrames `\"POS\"`, `\"ID\"`, `\"REF\"` y `\"ALT\"` se emplean para este fin. Un nuevo DataFrame (`common`) se crea a partid de las mutaciones compartidas entre 2019 y 2021."
   ]
  },
  {
   "cell_type": "code",
   "execution_count": 18,
   "id": "ec9de266",
   "metadata": {},
   "outputs": [],
   "source": [
    "# Create a new DataFrame merging v21_clean and v19_clean\n",
    "# Using columns of interest\n",
    "common = pd.merge(v21_clean, v19_clean, how=\"inner\", on=[\"CHROM\", \"POS\", \"REF\", \"ALT\"])\n",
    "\n",
    "# Clean useless columns\n",
    "useless_col = [\"ID_x\", \"QUAL_x\", \"FILTER_x\", \"INFO_x\", \"ID_y\", \"QUAL_y\", \"FILTER_y\", \"INFO_y\"]\n",
    "for i in useless_col:\n",
    "    del common[i]"
   ]
  },
  {
   "cell_type": "markdown",
   "id": "a50bb061",
   "metadata": {},
   "source": [
    "La siguiente línea de código permite almacenar en un fichero CSV el anterior DataFrame creado:"
   ]
  },
  {
   "cell_type": "code",
   "execution_count": 19,
   "id": "79ade764",
   "metadata": {},
   "outputs": [],
   "source": [
    "## - To CSV\n",
    "#common.to_csv('common_variants_2021_2019.csv', sep=',', index=False)"
   ]
  },
  {
   "cell_type": "code",
   "execution_count": 20,
   "id": "c4793240",
   "metadata": {},
   "outputs": [
    {
     "data": {
      "text/html": [
       "<div>\n",
       "<style scoped>\n",
       "    .dataframe tbody tr th:only-of-type {\n",
       "        vertical-align: middle;\n",
       "    }\n",
       "\n",
       "    .dataframe tbody tr th {\n",
       "        vertical-align: top;\n",
       "    }\n",
       "\n",
       "    .dataframe thead th {\n",
       "        text-align: right;\n",
       "    }\n",
       "</style>\n",
       "<table border=\"1\" class=\"dataframe\">\n",
       "  <thead>\n",
       "    <tr style=\"text-align: right;\">\n",
       "      <th></th>\n",
       "      <th>CHROM</th>\n",
       "      <th>POS</th>\n",
       "      <th>REF</th>\n",
       "      <th>ALT</th>\n",
       "      <th>CLNSIG_21</th>\n",
       "      <th>CLNSIG_19</th>\n",
       "    </tr>\n",
       "  </thead>\n",
       "  <tbody>\n",
       "    <tr>\n",
       "      <th>0</th>\n",
       "      <td>20</td>\n",
       "      <td>63406349</td>\n",
       "      <td>G</td>\n",
       "      <td>A</td>\n",
       "      <td>Benign</td>\n",
       "      <td>Benign</td>\n",
       "    </tr>\n",
       "    <tr>\n",
       "      <th>1</th>\n",
       "      <td>20</td>\n",
       "      <td>63406396</td>\n",
       "      <td>G</td>\n",
       "      <td>A</td>\n",
       "      <td>Benign</td>\n",
       "      <td>Benign</td>\n",
       "    </tr>\n",
       "    <tr>\n",
       "      <th>2</th>\n",
       "      <td>20</td>\n",
       "      <td>63406640</td>\n",
       "      <td>C</td>\n",
       "      <td>T</td>\n",
       "      <td>Likely_benign</td>\n",
       "      <td>Likely_benign</td>\n",
       "    </tr>\n",
       "    <tr>\n",
       "      <th>3</th>\n",
       "      <td>20</td>\n",
       "      <td>63406650</td>\n",
       "      <td>C</td>\n",
       "      <td>A</td>\n",
       "      <td>Likely_benign</td>\n",
       "      <td>Likely_benign</td>\n",
       "    </tr>\n",
       "    <tr>\n",
       "      <th>4</th>\n",
       "      <td>20</td>\n",
       "      <td>63406653</td>\n",
       "      <td>G</td>\n",
       "      <td>GGGCCC</td>\n",
       "      <td>Pathogenic</td>\n",
       "      <td>Pathogenic</td>\n",
       "    </tr>\n",
       "  </tbody>\n",
       "</table>\n",
       "</div>"
      ],
      "text/plain": [
       "  CHROM       POS REF     ALT      CLNSIG_21      CLNSIG_19\n",
       "0    20  63406349   G       A         Benign         Benign\n",
       "1    20  63406396   G       A         Benign         Benign\n",
       "2    20  63406640   C       T  Likely_benign  Likely_benign\n",
       "3    20  63406650   C       A  Likely_benign  Likely_benign\n",
       "4    20  63406653   G  GGGCCC     Pathogenic     Pathogenic"
      ]
     },
     "execution_count": 20,
     "metadata": {},
     "output_type": "execute_result"
    }
   ],
   "source": [
    "common.head()"
   ]
  },
  {
   "cell_type": "code",
   "execution_count": 21,
   "id": "ef872ca0",
   "metadata": {},
   "outputs": [
    {
     "data": {
      "text/plain": [
       "(784, 6)"
      ]
     },
     "execution_count": 21,
     "metadata": {},
     "output_type": "execute_result"
    }
   ],
   "source": [
    "common.shape"
   ]
  },
  {
   "cell_type": "markdown",
   "id": "690b3273",
   "metadata": {},
   "source": [
    "A continuación, se estudian los \"cambios\" y \"no cambios\" de la clínica de las variantes de KCNQ2 en los años 2019 y 2021. El DataFrame `changed` almacena las variantes de KCNQ2 cuya clínica ha cambiado entre los años 2019 y 2021. El DataFrame `not_changed` almacena las variantes de KCNQ2 cuya clínica se ha mantenido entre los años 2019 y 2021."
   ]
  },
  {
   "cell_type": "code",
   "execution_count": 22,
   "id": "9f3457cb",
   "metadata": {},
   "outputs": [],
   "source": [
    "# Selecting rows based on condition\n",
    "changed = common.loc[common[\"CLNSIG_21\"] != common[\"CLNSIG_19\"]]\n",
    "not_changed = common.loc[common[\"CLNSIG_21\"] == common[\"CLNSIG_19\"]]"
   ]
  },
  {
   "cell_type": "code",
   "execution_count": 23,
   "id": "1fca3a76",
   "metadata": {},
   "outputs": [
    {
     "name": "stdout",
     "output_type": "stream",
     "text": [
      "La clínica ha cambiado en 77 mutaciones\n",
      "La clínica se ha mantenido en 707 mutaciones\n"
     ]
    }
   ],
   "source": [
    "print(\"La clínica ha cambiado en {} mutaciones\".format(changed.shape[0]))\n",
    "print(\"La clínica se ha mantenido en {} mutaciones\".format(not_changed.shape[0]))"
   ]
  },
  {
   "cell_type": "markdown",
   "id": "037de3a6",
   "metadata": {},
   "source": [
    "Se comprueban los valores únicos existentes en la columna que almacena la clínica:"
   ]
  },
  {
   "cell_type": "code",
   "execution_count": 24,
   "id": "9baa6cfb",
   "metadata": {},
   "outputs": [
    {
     "data": {
      "text/plain": [
       "array(['Conflictive_interpretation', 'Benign', 'Likely_benign',\n",
       "       'Pathogenic', 'VUS', 'Likely_pathogenic'], dtype=object)"
      ]
     },
     "execution_count": 24,
     "metadata": {},
     "output_type": "execute_result"
    }
   ],
   "source": [
    "changed[\"CLNSIG_21\"].unique() "
   ]
  },
  {
   "cell_type": "markdown",
   "id": "b4de77c3",
   "metadata": {},
   "source": [
    "Se realiza un conteo de los cambios entre las variantes de KCNQ2 en 2019 y 2021:"
   ]
  },
  {
   "cell_type": "code",
   "execution_count": 25,
   "id": "3a12ca7d",
   "metadata": {},
   "outputs": [
    {
     "data": {
      "text/plain": [
       "CLNSIG_19                   CLNSIG_21                 \n",
       "Benign                      Conflictive_interpretation     1\n",
       "                            Likely_benign                  2\n",
       "Conflictive_interpretation  Benign                         1\n",
       "                            Likely_benign                  5\n",
       "                            Likely_pathogenic              4\n",
       "                            Pathogenic                     3\n",
       "                            VUS                            1\n",
       "Likely_benign               Benign                        10\n",
       "                            Conflictive_interpretation     4\n",
       "Likely_pathogenic           Conflictive_interpretation    11\n",
       "                            Pathogenic                     3\n",
       "Pathogenic                  Benign                         2\n",
       "                            Conflictive_interpretation     1\n",
       "                            Likely_pathogenic             10\n",
       "                            VUS                            2\n",
       "VUS                         Conflictive_interpretation    11\n",
       "                            Likely_benign                  2\n",
       "                            Likely_pathogenic              2\n",
       "                            Pathogenic                     2\n",
       "dtype: int64"
      ]
     },
     "execution_count": 25,
     "metadata": {},
     "output_type": "execute_result"
    }
   ],
   "source": [
    "changed.groupby(['CLNSIG_19','CLNSIG_21']).size()"
   ]
  },
  {
   "cell_type": "markdown",
   "id": "3fb7a6fd",
   "metadata": {},
   "source": [
    "<br>\n",
    "<br>\n",
    "\n",
    "### Apartado 3. Visualización de las reclasificaciones en ClinVar <a id=\"ap3\"></a>"
   ]
  },
  {
   "cell_type": "markdown",
   "id": "f68e033f",
   "metadata": {},
   "source": [
    "Para la representación de las reclasificaciones de KCNQ2 entre 2019 y 2021 se emplea la librería de [floWeaver](https://sankeyview.readthedocs.io/en/latest/tutorials/quickstart.html). Con este fin, se crea un DataFrame original según las especificaciones de floWeaver. Para eso, es necesario crear un fichero .csv con el siguiente formato:\n",
    "\n",
    "* **Columna 1**: `CLINSIG_19`, es decir, la clínica de las variantes de KCNQ2 en 2019.\n",
    "* **Columna 2**: `CLINSIG_21`, es decir, la clínica de las variantes de KCNQ2 en 2021.\n",
    "* **Columna 3**: la clínica inicial, en este caso de 2019, con un código asignado (aunque no es obligatorio).\n",
    "* **Columna 4**: el recuento de cuántas veces ocurre este cambio, obtenido a partir de la línea de código anterior."
   ]
  },
  {
   "cell_type": "code",
   "execution_count": 26,
   "id": "5e8460d2",
   "metadata": {},
   "outputs": [
    {
     "data": {
      "text/html": [
       "<div>\n",
       "<style scoped>\n",
       "    .dataframe tbody tr th:only-of-type {\n",
       "        vertical-align: middle;\n",
       "    }\n",
       "\n",
       "    .dataframe tbody tr th {\n",
       "        vertical-align: top;\n",
       "    }\n",
       "\n",
       "    .dataframe thead th {\n",
       "        text-align: right;\n",
       "    }\n",
       "</style>\n",
       "<table border=\"1\" class=\"dataframe\">\n",
       "  <thead>\n",
       "    <tr style=\"text-align: right;\">\n",
       "      <th></th>\n",
       "      <th>CLNSIG_19</th>\n",
       "      <th>CLNSIG_21</th>\n",
       "      <th>Change_from</th>\n",
       "      <th>Count</th>\n",
       "    </tr>\n",
       "  </thead>\n",
       "  <tbody>\n",
       "    <tr>\n",
       "      <th>0</th>\n",
       "      <td>Benign 2019</td>\n",
       "      <td>Conflictive interpretation 2021</td>\n",
       "      <td>B</td>\n",
       "      <td>1</td>\n",
       "    </tr>\n",
       "    <tr>\n",
       "      <th>1</th>\n",
       "      <td>Benign 2019</td>\n",
       "      <td>Likely benign 2021</td>\n",
       "      <td>B</td>\n",
       "      <td>2</td>\n",
       "    </tr>\n",
       "    <tr>\n",
       "      <th>2</th>\n",
       "      <td>Conflictive interpretation 2019</td>\n",
       "      <td>Benign 2021</td>\n",
       "      <td>C</td>\n",
       "      <td>1</td>\n",
       "    </tr>\n",
       "    <tr>\n",
       "      <th>3</th>\n",
       "      <td>Conflictive interpretation 2019</td>\n",
       "      <td>Likely benign 2021</td>\n",
       "      <td>C</td>\n",
       "      <td>5</td>\n",
       "    </tr>\n",
       "    <tr>\n",
       "      <th>4</th>\n",
       "      <td>Conflictive interpretation 2019</td>\n",
       "      <td>Likely pathogenic 2021</td>\n",
       "      <td>C</td>\n",
       "      <td>4</td>\n",
       "    </tr>\n",
       "    <tr>\n",
       "      <th>5</th>\n",
       "      <td>Conflictive interpretation 2019</td>\n",
       "      <td>Pathogenic 2021</td>\n",
       "      <td>C</td>\n",
       "      <td>3</td>\n",
       "    </tr>\n",
       "    <tr>\n",
       "      <th>6</th>\n",
       "      <td>Conflictive interpretation 2019</td>\n",
       "      <td>VUS 2021</td>\n",
       "      <td>C</td>\n",
       "      <td>1</td>\n",
       "    </tr>\n",
       "    <tr>\n",
       "      <th>7</th>\n",
       "      <td>Likely benign 2019</td>\n",
       "      <td>Benign 2021</td>\n",
       "      <td>LB</td>\n",
       "      <td>10</td>\n",
       "    </tr>\n",
       "    <tr>\n",
       "      <th>8</th>\n",
       "      <td>Likely benign 2019</td>\n",
       "      <td>Conflictive interpretation 2021</td>\n",
       "      <td>LB</td>\n",
       "      <td>4</td>\n",
       "    </tr>\n",
       "    <tr>\n",
       "      <th>9</th>\n",
       "      <td>Likely pathogenic 2019</td>\n",
       "      <td>Conflictive interpretation 2021</td>\n",
       "      <td>LP</td>\n",
       "      <td>11</td>\n",
       "    </tr>\n",
       "    <tr>\n",
       "      <th>10</th>\n",
       "      <td>Likely pathogenic 2019</td>\n",
       "      <td>Pathogenic 2021</td>\n",
       "      <td>LP</td>\n",
       "      <td>3</td>\n",
       "    </tr>\n",
       "    <tr>\n",
       "      <th>11</th>\n",
       "      <td>Pathogenic 2019</td>\n",
       "      <td>Benign 2021</td>\n",
       "      <td>P</td>\n",
       "      <td>2</td>\n",
       "    </tr>\n",
       "    <tr>\n",
       "      <th>12</th>\n",
       "      <td>Pathogenic 2019</td>\n",
       "      <td>Conflictive interpretation 2021</td>\n",
       "      <td>P</td>\n",
       "      <td>1</td>\n",
       "    </tr>\n",
       "    <tr>\n",
       "      <th>13</th>\n",
       "      <td>Pathogenic 2019</td>\n",
       "      <td>Likely pathogenic 2021</td>\n",
       "      <td>P</td>\n",
       "      <td>10</td>\n",
       "    </tr>\n",
       "    <tr>\n",
       "      <th>14</th>\n",
       "      <td>Pathogenic 2019</td>\n",
       "      <td>VUS 2021</td>\n",
       "      <td>P</td>\n",
       "      <td>2</td>\n",
       "    </tr>\n",
       "    <tr>\n",
       "      <th>15</th>\n",
       "      <td>VUS 2019</td>\n",
       "      <td>Conflictive interpretation 2021</td>\n",
       "      <td>VUS</td>\n",
       "      <td>11</td>\n",
       "    </tr>\n",
       "    <tr>\n",
       "      <th>16</th>\n",
       "      <td>VUS 2019</td>\n",
       "      <td>Likely benign 2021</td>\n",
       "      <td>VUS</td>\n",
       "      <td>2</td>\n",
       "    </tr>\n",
       "    <tr>\n",
       "      <th>17</th>\n",
       "      <td>VUS 2019</td>\n",
       "      <td>Likely pathogenic 2021</td>\n",
       "      <td>VUS</td>\n",
       "      <td>2</td>\n",
       "    </tr>\n",
       "    <tr>\n",
       "      <th>18</th>\n",
       "      <td>VUS 2019</td>\n",
       "      <td>Pathogenic 2021</td>\n",
       "      <td>VUS</td>\n",
       "      <td>2</td>\n",
       "    </tr>\n",
       "  </tbody>\n",
       "</table>\n",
       "</div>"
      ],
      "text/plain": [
       "                          CLNSIG_19                        CLNSIG_21  \\\n",
       "0                       Benign 2019  Conflictive interpretation 2021   \n",
       "1                       Benign 2019               Likely benign 2021   \n",
       "2   Conflictive interpretation 2019                      Benign 2021   \n",
       "3   Conflictive interpretation 2019               Likely benign 2021   \n",
       "4   Conflictive interpretation 2019           Likely pathogenic 2021   \n",
       "5   Conflictive interpretation 2019                  Pathogenic 2021   \n",
       "6   Conflictive interpretation 2019                         VUS 2021   \n",
       "7                Likely benign 2019                      Benign 2021   \n",
       "8                Likely benign 2019  Conflictive interpretation 2021   \n",
       "9            Likely pathogenic 2019  Conflictive interpretation 2021   \n",
       "10           Likely pathogenic 2019                  Pathogenic 2021   \n",
       "11                  Pathogenic 2019                      Benign 2021   \n",
       "12                  Pathogenic 2019  Conflictive interpretation 2021   \n",
       "13                  Pathogenic 2019           Likely pathogenic 2021   \n",
       "14                  Pathogenic 2019                         VUS 2021   \n",
       "15                         VUS 2019  Conflictive interpretation 2021   \n",
       "16                         VUS 2019               Likely benign 2021   \n",
       "17                         VUS 2019           Likely pathogenic 2021   \n",
       "18                         VUS 2019                  Pathogenic 2021   \n",
       "\n",
       "   Change_from  Count  \n",
       "0            B      1  \n",
       "1            B      2  \n",
       "2            C      1  \n",
       "3            C      5  \n",
       "4            C      4  \n",
       "5            C      3  \n",
       "6            C      1  \n",
       "7           LB     10  \n",
       "8           LB      4  \n",
       "9           LP     11  \n",
       "10          LP      3  \n",
       "11           P      2  \n",
       "12           P      1  \n",
       "13           P     10  \n",
       "14           P      2  \n",
       "15         VUS     11  \n",
       "16         VUS      2  \n",
       "17         VUS      2  \n",
       "18         VUS      2  "
      ]
     },
     "execution_count": 26,
     "metadata": {},
     "output_type": "execute_result"
    }
   ],
   "source": [
    "# Load file\n",
    "res = pd.read_csv(\"KCNQ2_reclass_changed_results.csv\")\n",
    "res"
   ]
  },
  {
   "cell_type": "markdown",
   "id": "326d0934",
   "metadata": {},
   "source": [
    "Por último, se crea la representación de los cambios mediante un **diagrama de Sankey**:"
   ]
  },
  {
   "cell_type": "code",
   "execution_count": 27,
   "id": "a0064c6a",
   "metadata": {},
   "outputs": [
    {
     "data": {
      "application/vnd.jupyter.widget-view+json": {
       "model_id": "57bfee86c1f1421fb50eede5d3f44d9f",
       "version_major": 2,
       "version_minor": 0
      },
      "text/plain": [
       "SankeyWidget(links=[{'source': 'Benign 2019', 'target': 'Conflictive interpretation 2021', 'type': 'B', 'value…"
      ]
     },
     "metadata": {},
     "output_type": "display_data"
    }
   ],
   "source": [
    "# Set the default size to fit the documentation better.\n",
    "size = dict(width=570, height=300)\n",
    "\n",
    "# Need to rename the columns to make floWeaver work.\n",
    "res.columns = [\"source\", \"target\", \"type\", \"value\"]\n",
    "\n",
    "SankeyWidget(links=res.to_dict('records'))"
   ]
  }
 ],
 "metadata": {
  "kernelspec": {
   "display_name": "Python 3",
   "language": "python",
   "name": "python3"
  },
  "language_info": {
   "codemirror_mode": {
    "name": "ipython",
    "version": 3
   },
   "file_extension": ".py",
   "mimetype": "text/x-python",
   "name": "python",
   "nbconvert_exporter": "python",
   "pygments_lexer": "ipython3",
   "version": "3.8.8"
  }
 },
 "nbformat": 4,
 "nbformat_minor": 5
}
